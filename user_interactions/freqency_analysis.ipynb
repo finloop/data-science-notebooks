{
 "cells": [
  {
   "cell_type": "markdown",
   "id": "d6ed490f-6a2c-46b4-b003-771ec54e2a9b",
   "metadata": {},
   "source": [
    "# Imports\n"
   ]
  },
  {
   "cell_type": "code",
   "execution_count": 1,
   "id": "a72280e9-a158-4af4-9c47-365d18b117d5",
   "metadata": {},
   "outputs": [],
   "source": [
    "import numpy as np\n",
    "import pandas as pd\n",
    "import seaborn as sns\n",
    "import matplotlib.pylab as plt\n",
    "import os"
   ]
  },
  {
   "cell_type": "code",
   "execution_count": 2,
   "id": "fa6fa03c-3d62-4b7f-bc34-f7fdc7dcc6af",
   "metadata": {},
   "outputs": [],
   "source": [
    "from mlxtend.preprocessing import TransactionEncoder\n",
    "from mlxtend.frequent_patterns import apriori, fpmax, fpgrowth, association_rules"
   ]
  },
  {
   "cell_type": "markdown",
   "id": "51261810-9f76-4c29-9ebd-7cf5a7c8b807",
   "metadata": {},
   "source": [
    "# Load data"
   ]
  },
  {
   "cell_type": "code",
   "execution_count": 3,
   "id": "a6eeafa5-e7bf-42ad-8d06-78da975f5694",
   "metadata": {},
   "outputs": [],
   "source": [
    "df = pd.read_csv(\"data/clicks_sample.csv\")"
   ]
  },
  {
   "cell_type": "raw",
   "id": "067bf8fa-0e3d-4f65-824c-b54dbc285e5a",
   "metadata": {},
   "source": [
    "full_df = pd.read_csv(\"data/clicks/clicks/\" + os.listdir(\"data/clicks/clicks\")[0])\n",
    "for filename in os.listdir(\"data/clicks/clicks\")[1:]:\n",
    "    full_df = full_df.append(pd.read_csv(\"data/clicks/clicks/\" +filename))"
   ]
  },
  {
   "cell_type": "code",
   "execution_count": 11,
   "id": "64e7e0fa-f630-4dcc-81d1-14d735b4eb69",
   "metadata": {},
   "outputs": [],
   "source": [
    "full_df = pd.read_csv(\"data/full_df.csv.gz\", compression=\"gzip\")"
   ]
  },
  {
   "cell_type": "code",
   "execution_count": 12,
   "id": "055a9dca-b5ab-41df-ad62-d04c0c0f72f7",
   "metadata": {},
   "outputs": [],
   "source": [
    "full_df.click_timestamp = full_df.click_timestamp.astype(int)"
   ]
  },
  {
   "cell_type": "code",
   "execution_count": 13,
   "id": "b20c53b6-d6ef-4a66-8985-867f44d08d5e",
   "metadata": {},
   "outputs": [],
   "source": [
    "full_df.session_start = full_df.session_start.astype(int)"
   ]
  },
  {
   "cell_type": "code",
   "execution_count": 14,
   "id": "2eca547c-388e-475e-b62f-d2e18620d5f0",
   "metadata": {},
   "outputs": [],
   "source": [
    "full_df['session_start_time'] = pd.to_datetime(full_df.session_start, unit=\"ms\")"
   ]
  },
  {
   "cell_type": "raw",
   "id": "50aec901-502a-4bff-8ad7-21ca3f92370d",
   "metadata": {},
   "source": [
    "full_df.to_csv(\"data/full_df.csv.gz\", index=False, compression=\"gzip\")"
   ]
  },
  {
   "cell_type": "code",
   "execution_count": 15,
   "id": "7a0b2489-d300-4296-a06a-cc8981a8974e",
   "metadata": {},
   "outputs": [],
   "source": [
    "date = pd.to_datetime(np.min(full_df.session_start), unit=\"ms\")\n",
    "hour = np.timedelta64(1, 'h')\n",
    "full_df['hour'] = full_df['session_start_time'].apply(\n",
    "    lambda x: (date - x) / hour)"
   ]
  },
  {
   "cell_type": "code",
   "execution_count": 16,
   "id": "e44c4102-2b95-4faa-894c-d8cc8bb5b699",
   "metadata": {},
   "outputs": [],
   "source": [
    "full_df['hour'] = np.abs(np.round(full_df['hour']))"
   ]
  },
  {
   "cell_type": "code",
   "execution_count": 20,
   "id": "0df02ab9-dde1-46f7-bf5f-7063fded1292",
   "metadata": {},
   "outputs": [],
   "source": [
    "full_df = full_df.sort_values(\"hour\")"
   ]
  },
  {
   "cell_type": "code",
   "execution_count": 21,
   "id": "43c3a9a9-e588-4ab5-9afd-8f9ce480e138",
   "metadata": {},
   "outputs": [],
   "source": [
    "articles_per_session = []\n",
    "for session_id, data in df.groupby(\"session_id\"):\n",
    "    articles_per_session += [list(enumerate(data[\"click_article_id\"].values))]"
   ]
  },
  {
   "cell_type": "code",
   "execution_count": 22,
   "id": "0d6c6de2-a719-4344-b2b9-662524e721d6",
   "metadata": {},
   "outputs": [],
   "source": [
    "x = articles_per_session"
   ]
  },
  {
   "cell_type": "code",
   "execution_count": 30,
   "id": "1b035573-01a1-48d6-8bb8-5005a71ed5f3",
   "metadata": {},
   "outputs": [
    {
     "data": {
      "text/plain": [
       "[[(0, 157541), (1, 68866)],\n",
       " [(0, 235840), (1, 96663)],\n",
       " [(0, 119592), (1, 30970)],\n",
       " [(0, 236065), (1, 236294)],\n",
       " [(0, 48915), (1, 44488)],\n",
       " [(0, 168868), (1, 207122), (2, 286413)],\n",
       " [(0, 202436), (1, 288431)],\n",
       " [(0, 235840), (1, 284847)],\n",
       " [(0, 332114), (1, 284847), (2, 114161)],\n",
       " [(0, 284346), (1, 285412)]]"
      ]
     },
     "execution_count": 30,
     "metadata": {},
     "output_type": "execute_result"
    }
   ],
   "source": [
    "x[:10]"
   ]
  },
  {
   "cell_type": "markdown",
   "id": "675368b1-c058-4d36-bbb7-5a5d81155465",
   "metadata": {},
   "source": [
    "# Create frequent patterns"
   ]
  },
  {
   "cell_type": "code",
   "execution_count": 24,
   "id": "8aa8100d-c33f-48cf-95d1-31fadbbed8d9",
   "metadata": {},
   "outputs": [],
   "source": [
    "def get_article_list(df):\n",
    "    articles_per_session = []\n",
    "    for session_id, data in df.groupby(\"session_id\"):\n",
    "        articles_per_session += [list(enumerate(data[\"click_article_id\"].values))]\n",
    "    return articles_per_session"
   ]
  },
  {
   "cell_type": "code",
   "execution_count": 201,
   "id": "3daea4cf-a4e1-4301-ba8a-15ab9d1f151e",
   "metadata": {},
   "outputs": [],
   "source": [
    "def get_frequent_ar(te, x, min_sessions):\n",
    "    te_ary = te.transform(x)\n",
    "    data = pd.DataFrame(te_ary, columns=te.columns_)\n",
    "    frequent_itemsets = fpgrowth(data, min_support=min_sessions/len(x), use_colnames=True)\n",
    "    ar = association_rules(frequent_itemsets, metric=\"support\", min_threshold=min_sessions/len(x))\n",
    "    ar[\"n\"] = ar[\"support\"] * len(x)\n",
    "    return ar"
   ]
  },
  {
   "cell_type": "code",
   "execution_count": 202,
   "id": "d1ca9d55-e053-4854-ad1f-c830989115f4",
   "metadata": {},
   "outputs": [],
   "source": [
    "def get_frequent(te, x, min_sessions):\n",
    "    te_ary = te.transform(x)\n",
    "    data = pd.DataFrame(te_ary, columns=te.columns_)\n",
    "    frequent_itemsets = fpgrowth(data, min_support=min_sessions/len(x), use_colnames=True)\n",
    "    frequent_itemsets[\"n\"] = frequent_itemsets[\"support\"] * len(x)\n",
    "    return frequent_itemsets"
   ]
  },
  {
   "cell_type": "code",
   "execution_count": 203,
   "id": "c2b46dd9-7aa8-4296-81f3-6adcf78c3164",
   "metadata": {},
   "outputs": [],
   "source": [
    "#xx = get_article_list(full_df)"
   ]
  },
  {
   "cell_type": "code",
   "execution_count": 204,
   "id": "800cc8b4-e871-4ebb-b9e9-8fd909d63592",
   "metadata": {},
   "outputs": [
    {
     "data": {
      "text/plain": [
       "TransactionEncoder()"
      ]
     },
     "execution_count": 204,
     "metadata": {},
     "output_type": "execute_result"
    }
   ],
   "source": [
    "#te = TransactionEncoder()\n",
    "#te.fit(xx)"
   ]
  },
  {
   "cell_type": "code",
   "execution_count": 205,
   "id": "a351b74e-9cd1-4ae4-bc8f-3f85ec15720c",
   "metadata": {},
   "outputs": [],
   "source": [
    "data = full_df.loc[full_df.hour == 42]\n",
    "freq = get_frequent_ar(te, get_article_list(data), 10)\n",
    "#freq = freq.loc[(freq.antecedents == frozenset({(0, 199198)})) & (freq.consequents == frozenset({(1, 272143)}))]"
   ]
  },
  {
   "cell_type": "code",
   "execution_count": 277,
   "id": "750b3980-6ceb-4435-8eda-9f7984236b3b",
   "metadata": {},
   "outputs": [],
   "source": [
    "def get_by_pos(freq, item):\n",
    "    freq['items'] = pd.Series(freq[\"antecedents\"].apply(lambda x: list(map(lambda y: y[1], x))))\n",
    "    freq['pos'] = pd.Series(freq[\"antecedents\"].apply(lambda x: list(map(lambda y: y[0], x))))\n",
    "    freq['items'].apply(lambda x: x)\n",
    "    freq[\"ist\"] = freq[\"items\"].apply(lambda x: np.where(np.array(x) == item)[0])\n",
    "    ddd = freq.loc[freq.ist.apply(lambda x: len(x))>0, [\"n\",\"pos\", \"ist\"]]\n",
    "    ddd[\"xx\"] = freq.loc[freq.ist.apply(lambda x: len(x))>0, [\"pos\", \"ist\", \"n\"]].apply(lambda x: x.iloc[0][x.iloc[1][0]], axis=1)\n",
    "    if \"xx\" in list(ddd.columns):\n",
    "        return list(ddd.groupby(\"xx\").sum().n)\n",
    "    else: \n",
    "        return [0]"
   ]
  },
  {
   "cell_type": "code",
   "execution_count": 278,
   "id": "e4791b17-27f3-4fde-9507-b2d208021ad7",
   "metadata": {},
   "outputs": [],
   "source": [
    "def get_pos_by_hour(te, hour, min_sessions, item):\n",
    "    print(hour)\n",
    "    data = full_df.loc[full_df.hour == hour]\n",
    "    freq = get_frequent_ar(te, get_article_list(data), min_sessions)\n",
    "    return get_by_pos(freq, item)"
   ]
  },
  {
   "cell_type": "code",
   "execution_count": 282,
   "id": "035ef829-1fca-4b11-b1fe-11d9399e96fd",
   "metadata": {},
   "outputs": [
    {
     "name": "stdout",
     "output_type": "stream",
     "text": [
      "37\n",
      "38\n",
      "39\n",
      "40\n",
      "41\n",
      "42\n"
     ]
    }
   ],
   "source": [
    "li = [get_pos_by_hour(te,hour,10, 162655) for hour in range(37, 43)]"
   ]
  },
  {
   "cell_type": "code",
   "execution_count": 283,
   "id": "d32d29f0-60b3-4d69-b139-1942a23eee0a",
   "metadata": {},
   "outputs": [
    {
     "data": {
      "text/plain": [
       "[[20.0, 29.0, 11.0],\n",
       " [491.0, 627.0, 174.0, 20.0],\n",
       " [763.0, 621.0, 225.0, 11.0],\n",
       " [1113.0, 1219.0, 581.0, 113.0],\n",
       " [1407.0, 1076.0, 543.0, 80.0, 13.0],\n",
       " [2056.0, 773.0, 309.0, 24.0]]"
      ]
     },
     "execution_count": 283,
     "metadata": {},
     "output_type": "execute_result"
    }
   ],
   "source": [
    "li"
   ]
  },
  {
   "cell_type": "code",
   "execution_count": 284,
   "id": "e13408a8-a871-4658-bbf5-db3fbb912e11",
   "metadata": {},
   "outputs": [
    {
     "data": {
      "text/plain": [
       "(0.0, 1.0)"
      ]
     },
     "execution_count": 284,
     "metadata": {},
     "output_type": "execute_result"
    },
    {
     "data": {
      "image/png": "[encoded data removed]",
      "text/plain": [
       "<Figure size 432x288 with 1 Axes>"
      ]
     },
     "metadata": {
      "needs_background": "light"
     },
     "output_type": "display_data"
    }
   ],
   "source": [
    "plt.bar(list(range(int(len(li[0])))), np.array(li[0])/sum(li[0]))\n",
    "plt.ylim([0,1])"
   ]
  },
  {
   "cell_type": "code",
   "execution_count": 285,
   "id": "501e8803-55b4-4fee-8e48-5d466c4754b2",
   "metadata": {},
   "outputs": [
    {
     "data": {
      "text/plain": [
       "(0.0, 1.0)"
      ]
     },
     "execution_count": 285,
     "metadata": {},
     "output_type": "execute_result"
    },
    {
     "data": {
      "image/png": "[encoded data removed]",
      "text/plain": [
       "<Figure size 432x288 with 1 Axes>"
      ]
     },
     "metadata": {
      "needs_background": "light"
     },
     "output_type": "display_data"
    }
   ],
   "source": [
    "plt.bar(list(range(int(len(li[1])))), np.array(li[1])/sum(li[1]))\n",
    "plt.ylim([0,1])"
   ]
  },
  {
   "cell_type": "code",
   "execution_count": 286,
   "id": "2dbdb456-5081-48f9-adc2-187aef6c9610",
   "metadata": {},
   "outputs": [
    {
     "data": {
      "text/plain": [
       "(0.0, 1.0)"
      ]
     },
     "execution_count": 286,
     "metadata": {},
     "output_type": "execute_result"
    },
    {
     "data": {
      "image/png": "[encoded data removed]",
      "text/plain": [
       "<Figure size 432x288 with 1 Axes>"
      ]
     },
     "metadata": {
      "needs_background": "light"
     },
     "output_type": "display_data"
    }
   ],
   "source": [
    "plt.bar(list(range(int(len(li[2])))), np.array(li[2])/sum(li[2]))\n",
    "plt.ylim([0,1])"
   ]
  },
  {
   "cell_type": "code",
   "execution_count": 287,
   "id": "e625e493-0c5e-41c6-9c62-deca5311d8cf",
   "metadata": {},
   "outputs": [
    {
     "data": {
      "text/plain": [
       "(0.0, 1.0)"
      ]
     },
     "execution_count": 287,
     "metadata": {},
     "output_type": "execute_result"
    },
    {
     "data": {
      "image/png": "[encoded data removed]",
      "text/plain": [
       "<Figure size 432x288 with 1 Axes>"
      ]
     },
     "metadata": {
      "needs_background": "light"
     },
     "output_type": "display_data"
    }
   ],
   "source": [
    "plt.bar(list(range(int(len(li[3])))), np.array(li[3])/sum(li[3]))\n",
    "plt.ylim([0,1])"
   ]
  },
  {
   "cell_type": "code",
   "execution_count": 288,
   "id": "38806e28-7848-44ef-baf9-8ffc270b9387",
   "metadata": {},
   "outputs": [
    {
     "data": {
      "text/plain": [
       "(0.0, 1.0)"
      ]
     },
     "execution_count": 288,
     "metadata": {},
     "output_type": "execute_result"
    },
    {
     "data": {
      "image/png": "[encoded data removed]",
      "text/plain": [
       "<Figure size 432x288 with 1 Axes>"
      ]
     },
     "metadata": {
      "needs_background": "light"
     },
     "output_type": "display_data"
    }
   ],
   "source": [
    "plt.bar(list(range(int(len(li[4])))), np.array(li[4])/sum(li[4]))\n",
    "plt.ylim([0,1])"
   ]
  },
  {
   "cell_type": "code",
   "execution_count": 290,
   "id": "861b9207-8b28-4007-aa99-7072a7c0270c",
   "metadata": {},
   "outputs": [
    {
     "data": {
      "text/plain": [
       "(0.0, 1.0)"
      ]
     },
     "execution_count": 290,
     "metadata": {},
     "output_type": "execute_result"
    },
    {
     "data": {
      "image/png": "[encoded data removed]",
      "text/plain": [
       "<Figure size 432x288 with 1 Axes>"
      ]
     },
     "metadata": {
      "needs_background": "light"
     },
     "output_type": "display_data"
    }
   ],
   "source": [
    "plt.bar(list(range(int(len(li[5])))),  np.array(li[5])/sum(li[5]))\n",
    "plt.ylim([0,1])"
   ]
  },
  {
   "cell_type": "code",
   "execution_count": null,
   "id": "b6c47e50-dcd8-443f-8b7b-7c4ad16a8ed6",
   "metadata": {},
   "outputs": [],
   "source": [
    "fitems = lambda x, y: map(lambda z: z[1], x)"
   ]
  },
  {
   "cell_type": "code",
   "execution_count": 48,
   "id": "cd485e8f-d920-4808-950d-23d4525a5634",
   "metadata": {},
   "outputs": [],
   "source": [
    "def create_time_series(data, a, b, min_sessions):\n",
    "    points = []\n",
    "    for hour, data2 in data.groupby(\"hour\"):\n",
    "        freq = get_frequent_ar(te, get_article_list(data2), 5)\n",
    "        freq = freq.loc[(freq.antecedents == a) & (freq.consequents == b)]\n",
    "        if len(freq) > 0:\n",
    "            points += [((hour, freq.n.values[0]))]\n",
    "        else:\n",
    "            points += [((hour, 0))]\n",
    "        print(points[-1])\n",
    "    return points"
   ]
  },
  {
   "cell_type": "code",
   "execution_count": null,
   "id": "2a188855-c14f-408d-bb37-fd359af91459",
   "metadata": {},
   "outputs": [],
   "source": []
  },
  {
   "cell_type": "code",
   "execution_count": 204,
   "id": "4ae9a75f-439a-4cbf-967e-36ffde099f2c",
   "metadata": {},
   "outputs": [
    {
     "name": "stdout",
     "output_type": "stream",
     "text": [
      "(0.0, 0)\n",
      "(1.0, 0)\n",
      "(2.0, 0)\n",
      "(3.0, 0)\n",
      "(4.0, 0)\n",
      "(5.0, 0)\n",
      "(6.0, 0)\n",
      "(7.0, 0)\n",
      "(8.0, 0)\n",
      "(9.0, 0)\n",
      "(10.0, 0)\n",
      "(11.0, 0)\n",
      "(12.0, 0)\n",
      "(13.0, 0)\n",
      "(14.0, 0)\n",
      "(15.0, 0)\n",
      "(16.0, 0)\n",
      "(17.0, 0)\n",
      "(18.0, 0)\n",
      "(19.0, 0)\n",
      "(20.0, 0)\n",
      "(21.0, 0)\n",
      "(22.0, 0)\n",
      "(23.0, 0)\n",
      "(24.0, 0)\n",
      "(25.0, 0)\n",
      "(26.0, 0)\n",
      "(27.0, 0)\n",
      "(28.0, 0)\n",
      "(29.0, 0)\n",
      "(30.0, 0)\n",
      "(31.0, 0)\n",
      "(32.0, 0)\n",
      "(33.0, 0)\n",
      "(34.0, 0)\n",
      "(35.0, 0)\n",
      "(36.0, 0)\n",
      "(37.0, 0)\n",
      "(38.0, 0)\n",
      "(39.0, 0)\n",
      "(40.0, 0)\n",
      "(41.0, 55.0)\n",
      "(42.0, 183.0)\n",
      "(43.0, 296.0)\n",
      "(44.0, 208.0)\n",
      "(45.0, 181.0)\n",
      "(46.0, 48.0)\n",
      "(47.0, 36.0)\n",
      "(48.0, 23.999999999999996)\n",
      "(49.0, 12.0)\n",
      "(50.0, 5.0)\n",
      "(51.0, 0)\n",
      "(52.0, 0)\n",
      "(53.0, 5.0)\n",
      "(54.0, 14.0)\n",
      "(55.0, 21.0)\n",
      "(56.0, 42.0)\n",
      "(57.0, 92.0)\n",
      "(58.0, 67.0)\n",
      "(59.0, 48.0)\n",
      "(60.0, 8.0)\n",
      "(61.0, 0)\n",
      "(62.0, 0)\n",
      "(63.0, 0)\n",
      "(64.0, 0)\n",
      "(65.0, 0)\n",
      "(66.0, 0)\n",
      "(67.0, 0)\n",
      "(68.0, 0)\n",
      "(69.0, 0)\n",
      "(70.0, 0)\n",
      "(71.0, 0)\n",
      "(72.0, 0)\n",
      "(73.0, 0)\n",
      "(74.0, 0)\n",
      "(75.0, 0)\n",
      "(76.0, 0)\n",
      "(77.0, 0)\n",
      "(78.0, 0)\n",
      "(79.0, 0)\n",
      "(80.0, 0)\n",
      "(81.0, 0)\n",
      "(82.0, 0)\n",
      "(83.0, 0)\n",
      "(84.0, 0)\n",
      "(85.0, 0)\n",
      "(86.0, 0)\n",
      "(87.0, 0)\n",
      "(88.0, 0)\n",
      "(89.0, 0)\n",
      "(90.0, 0)\n",
      "(91.0, 0)\n",
      "(92.0, 0)\n",
      "(93.0, 0)\n",
      "(94.0, 0)\n",
      "(95.0, 0)\n",
      "(96.0, 0)\n",
      "(97.0, 0)\n",
      "(98.0, 0)\n",
      "(99.0, 0)\n",
      "(102.0, 0)\n",
      "(103.0, 0)\n",
      "(104.0, 0)\n",
      "(105.0, 0)\n",
      "(106.0, 0)\n",
      "(107.0, 0)\n",
      "(108.0, 0)\n",
      "(109.0, 0)\n",
      "(110.0, 0)\n",
      "(111.0, 0)\n",
      "(112.0, 0)\n",
      "(113.0, 0)\n",
      "(114.0, 0)\n",
      "(115.0, 0)\n",
      "(116.0, 0)\n",
      "(117.0, 0)\n",
      "(118.0, 0)\n",
      "(119.0, 0)\n",
      "(120.0, 0)\n",
      "(121.0, 0)\n",
      "(122.0, 0)\n",
      "(123.0, 0)\n",
      "(124.0, 0)\n",
      "(125.0, 0)\n",
      "(126.0, 0)\n",
      "(127.0, 0)\n",
      "(128.0, 0)\n",
      "(129.0, 0)\n",
      "(130.0, 0)\n",
      "(131.0, 0)\n",
      "(132.0, 0)\n",
      "(133.0, 0)\n",
      "(134.0, 0)\n",
      "(135.0, 0)\n",
      "(136.0, 0)\n",
      "(137.0, 0)\n",
      "(138.0, 0)\n",
      "(139.0, 0)\n",
      "(140.0, 0)\n",
      "(141.0, 0)\n",
      "(142.0, 0)\n",
      "(143.0, 0)\n",
      "(144.0, 0)\n",
      "(145.0, 0)\n",
      "(146.0, 0)\n",
      "(147.0, 0)\n",
      "(148.0, 0)\n",
      "(149.0, 0)\n",
      "(150.0, 0)\n",
      "(151.0, 0)\n",
      "(152.0, 0)\n",
      "(153.0, 0)\n",
      "(154.0, 0)\n",
      "(155.0, 0)\n",
      "(156.0, 0)\n",
      "(157.0, 0)\n",
      "(158.0, 0)\n",
      "(159.0, 0)\n",
      "(160.0, 0)\n",
      "(161.0, 0)\n",
      "(162.0, 0)\n",
      "(163.0, 0)\n",
      "(164.0, 0)\n",
      "(165.0, 0)\n",
      "(166.0, 0)\n",
      "(167.0, 0)\n",
      "(168.0, 0)\n",
      "(169.0, 0)\n",
      "(170.0, 0)\n",
      "(171.0, 0)\n",
      "(172.0, 0)\n",
      "(173.0, 0)\n",
      "(174.0, 0)\n",
      "(175.0, 0)\n",
      "(176.0, 0)\n",
      "(177.0, 0)\n",
      "(178.0, 0)\n",
      "(179.0, 0)\n",
      "(180.0, 0)\n",
      "(181.0, 0)\n",
      "(182.0, 0)\n",
      "(183.0, 0)\n",
      "(184.0, 0)\n",
      "(185.0, 0)\n",
      "(186.0, 0)\n",
      "(187.0, 0)\n",
      "(188.0, 0)\n",
      "(189.0, 0)\n",
      "(190.0, 0)\n",
      "(191.0, 0)\n",
      "(192.0, 0)\n",
      "(193.0, 0)\n",
      "(194.0, 0)\n",
      "(195.0, 0)\n",
      "(196.0, 0)\n",
      "(197.0, 0)\n",
      "(198.0, 0)\n",
      "(199.0, 0)\n",
      "(200.0, 0)\n",
      "(201.0, 0)\n",
      "(202.0, 0)\n",
      "(203.0, 0)\n",
      "(204.0, 0)\n",
      "(205.0, 0)\n",
      "(206.0, 0)\n",
      "(207.0, 0)\n",
      "(208.0, 0)\n",
      "(209.0, 0)\n",
      "(210.0, 0)\n",
      "(211.0, 0)\n",
      "(212.0, 0)\n",
      "(213.0, 0)\n",
      "(214.0, 0)\n",
      "(215.0, 0)\n",
      "(216.0, 0)\n",
      "(217.0, 0)\n",
      "(218.0, 0)\n",
      "(219.0, 0)\n",
      "(220.0, 0)\n",
      "(221.0, 0)\n",
      "(222.0, 0)\n",
      "(223.0, 0)\n",
      "(224.0, 0)\n",
      "(225.0, 0)\n",
      "(226.0, 0)\n",
      "(227.0, 0)\n",
      "(228.0, 0)\n",
      "(229.0, 0)\n",
      "(230.0, 0)\n",
      "(231.0, 0)\n",
      "(232.0, 0)\n",
      "(233.0, 0)\n",
      "(234.0, 0)\n",
      "(235.0, 0)\n",
      "(236.0, 0)\n",
      "(237.0, 0)\n",
      "(238.0, 0)\n",
      "(239.0, 0)\n",
      "(240.0, 0)\n",
      "(241.0, 0)\n",
      "(242.0, 0)\n",
      "(243.0, 0)\n",
      "(244.0, 0)\n",
      "(245.0, 0)\n",
      "(246.0, 0)\n",
      "(247.0, 0)\n",
      "(248.0, 0)\n",
      "(249.0, 0)\n",
      "(250.0, 0)\n",
      "(251.0, 0)\n",
      "(252.0, 0)\n",
      "(253.0, 0)\n",
      "(254.0, 0)\n",
      "(255.0, 0)\n",
      "(256.0, 0)\n",
      "(257.0, 0)\n",
      "(258.0, 0)\n",
      "(259.0, 0)\n",
      "(260.0, 0)\n",
      "(261.0, 0)\n",
      "(262.0, 0)\n",
      "(263.0, 0)\n",
      "(264.0, 0)\n",
      "(265.0, 0)\n",
      "(266.0, 0)\n",
      "(267.0, 0)\n",
      "(268.0, 0)\n",
      "(269.0, 0)\n",
      "(270.0, 0)\n",
      "(271.0, 0)\n",
      "(272.0, 0)\n",
      "(273.0, 0)\n",
      "(274.0, 0)\n",
      "(275.0, 0)\n",
      "(276.0, 0)\n",
      "(277.0, 0)\n",
      "(278.0, 0)\n",
      "(279.0, 0)\n",
      "(280.0, 0)\n",
      "(281.0, 0)\n",
      "(282.0, 0)\n",
      "(283.0, 0)\n",
      "(284.0, 0)\n",
      "(285.0, 0)\n",
      "(286.0, 0)\n",
      "(287.0, 0)\n",
      "(288.0, 0)\n",
      "(289.0, 0)\n",
      "(290.0, 0)\n",
      "(291.0, 0)\n",
      "(292.0, 0)\n",
      "(293.0, 0)\n",
      "(294.0, 0)\n",
      "(295.0, 0)\n",
      "(296.0, 0)\n",
      "(297.0, 0)\n",
      "(298.0, 0)\n",
      "(299.0, 0)\n",
      "(300.0, 0)\n",
      "(301.0, 0)\n",
      "(302.0, 0)\n",
      "(303.0, 0)\n",
      "(304.0, 0)\n",
      "(305.0, 0)\n",
      "(306.0, 0)\n",
      "(307.0, 0)\n",
      "(308.0, 0)\n",
      "(309.0, 0)\n",
      "(310.0, 0)\n",
      "(311.0, 0)\n",
      "(312.0, 0)\n",
      "(313.0, 0)\n",
      "(314.0, 0)\n",
      "(315.0, 0)\n",
      "(316.0, 0)\n",
      "(317.0, 0)\n",
      "(318.0, 0)\n",
      "(319.0, 0)\n",
      "(320.0, 0)\n",
      "(321.0, 0)\n",
      "(322.0, 0)\n",
      "(323.0, 0)\n",
      "(324.0, 0)\n",
      "(325.0, 0)\n",
      "(326.0, 0)\n",
      "(327.0, 0)\n",
      "(328.0, 0)\n",
      "(329.0, 0)\n",
      "(330.0, 0)\n",
      "(331.0, 0)\n",
      "(332.0, 0)\n",
      "(333.0, 0)\n",
      "(334.0, 0)\n",
      "(335.0, 0)\n",
      "(336.0, 0)\n",
      "(337.0, 0)\n",
      "(338.0, 0)\n",
      "(339.0, 0)\n",
      "(340.0, 0)\n",
      "(341.0, 0)\n",
      "(342.0, 0)\n",
      "(343.0, 0)\n",
      "(344.0, 0)\n",
      "(345.0, 0)\n",
      "(346.0, 0)\n",
      "(347.0, 0)\n",
      "(348.0, 0)\n",
      "(349.0, 0)\n",
      "(350.0, 0)\n",
      "(351.0, 0)\n",
      "(352.0, 0)\n",
      "(353.0, 0)\n",
      "(354.0, 0)\n",
      "(355.0, 0)\n",
      "(356.0, 0)\n",
      "(357.0, 0)\n",
      "(358.0, 0)\n",
      "(359.0, 0)\n",
      "(360.0, 0)\n",
      "(361.0, 0)\n",
      "(362.0, 0)\n",
      "(363.0, 0)\n",
      "(364.0, 0)\n",
      "(365.0, 0)\n",
      "(366.0, 0)\n",
      "(367.0, 0)\n",
      "(368.0, 0)\n",
      "(369.0, 0)\n",
      "(370.0, 0)\n",
      "(371.0, 0)\n",
      "(372.0, 0)\n",
      "(373.0, 0)\n",
      "(374.0, 0)\n",
      "(375.0, 0)\n",
      "(376.0, 0)\n",
      "(377.0, 0)\n",
      "(378.0, 0)\n",
      "(379.0, 0)\n",
      "(380.0, 0)\n",
      "(381.0, 0)\n",
      "(382.0, 0)\n",
      "(383.0, 0)\n",
      "(384.0, 0)\n",
      "(385.0, 0)\n"
     ]
    }
   ],
   "source": [
    "ts = create_time_series(full_df, frozenset({(0, 199198)}), frozenset({(1, 272143)}), 5)"
   ]
  },
  {
   "cell_type": "code",
   "execution_count": null,
   "id": "20298811-a98b-4f51-bf4a-c69e9753fa82",
   "metadata": {},
   "outputs": [],
   "source": [
    "ts"
   ]
  }
 ],
 "metadata": {
  "kernelspec": {
   "display_name": "Python 3 (ipykernel)",
   "language": "python",
   "name": "python3"
  },
  "language_info": {
   "codemirror_mode": {
    "name": "ipython",
    "version": 3
   },
   "file_extension": ".py",
   "mimetype": "text/x-python",
   "name": "python",
   "nbconvert_exporter": "python",
   "pygments_lexer": "ipython3",
   "version": "3.8.10"
  }
 },
 "nbformat": 4,
 "nbformat_minor": 5
}
