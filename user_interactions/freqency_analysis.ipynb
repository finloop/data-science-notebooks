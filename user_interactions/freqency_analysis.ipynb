{
 "cells": [
  {
   "cell_type": "markdown",
   "id": "d6ed490f-6a2c-46b4-b003-771ec54e2a9b",
   "metadata": {},
   "source": [
    "# Imports\n"
   ]
  },
  {
   "cell_type": "code",
   "execution_count": 1,
   "id": "a72280e9-a158-4af4-9c47-365d18b117d5",
   "metadata": {},
   "outputs": [],
   "source": [
    "import numpy as np\n",
    "import pandas as pd\n",
    "import seaborn as sns\n",
    "import matplotlib.pylab as plt\n",
    "import os"
   ]
  },
  {
   "cell_type": "code",
   "execution_count": 2,
   "id": "fa6fa03c-3d62-4b7f-bc34-f7fdc7dcc6af",
   "metadata": {},
   "outputs": [],
   "source": [
    "from mlxtend.preprocessing import TransactionEncoder\n",
    "from mlxtend.frequent_patterns import apriori, fpmax, fpgrowth, association_rules"
   ]
  },
  {
   "cell_type": "markdown",
   "id": "51261810-9f76-4c29-9ebd-7cf5a7c8b807",
   "metadata": {},
   "source": [
    "# Load data"
   ]
  },
  {
   "cell_type": "code",
   "execution_count": 3,
   "id": "a6eeafa5-e7bf-42ad-8d06-78da975f5694",
   "metadata": {},
   "outputs": [],
   "source": [
    "df = pd.read_csv(\"data/clicks_sample.csv\")"
   ]
  },
  {
   "cell_type": "raw",
   "id": "067bf8fa-0e3d-4f65-824c-b54dbc285e5a",
   "metadata": {},
   "source": [
    "full_df = pd.read_csv(\"data/clicks/clicks/\" + os.listdir(\"data/clicks/clicks\")[0])\n",
    "for filename in os.listdir(\"data/clicks/clicks\")[1:]:\n",
    "    full_df = full_df.append(pd.read_csv(\"data/clicks/clicks/\" +filename))"
   ]
  },
  {
   "cell_type": "code",
   "execution_count": 4,
   "id": "64e7e0fa-f630-4dcc-81d1-14d735b4eb69",
   "metadata": {},
   "outputs": [],
   "source": [
    "full_df = pd.read_csv(\"data/full_df.csv.gz\", compression=\"gzip\")"
   ]
  },
  {
   "cell_type": "code",
   "execution_count": 5,
   "id": "055a9dca-b5ab-41df-ad62-d04c0c0f72f7",
   "metadata": {},
   "outputs": [],
   "source": [
    "full_df.click_timestamp = full_df.click_timestamp.astype(int)"
   ]
  },
  {
   "cell_type": "code",
   "execution_count": 6,
   "id": "b20c53b6-d6ef-4a66-8985-867f44d08d5e",
   "metadata": {},
   "outputs": [],
   "source": [
    "full_df.session_start = full_df.session_start.astype(int)"
   ]
  },
  {
   "cell_type": "code",
   "execution_count": 7,
   "id": "2eca547c-388e-475e-b62f-d2e18620d5f0",
   "metadata": {},
   "outputs": [],
   "source": [
    "full_df['session_start_time'] = pd.to_datetime(full_df.session_start, unit=\"ms\")"
   ]
  },
  {
   "cell_type": "raw",
   "id": "50aec901-502a-4bff-8ad7-21ca3f92370d",
   "metadata": {},
   "source": [
    "full_df.to_csv(\"data/full_df.csv.gz\", index=False, compression=\"gzip\")"
   ]
  },
  {
   "cell_type": "code",
   "execution_count": 8,
   "id": "7a0b2489-d300-4296-a06a-cc8981a8974e",
   "metadata": {},
   "outputs": [],
   "source": [
    "date = pd.to_datetime(np.min(full_df.session_start), unit=\"ms\")\n",
    "hour = np.timedelta64(1, 'h')\n",
    "full_df['hour'] = full_df['session_start_time'].apply(\n",
    "    lambda x: (date - x) / hour)"
   ]
  },
  {
   "cell_type": "code",
   "execution_count": 9,
   "id": "e44c4102-2b95-4faa-894c-d8cc8bb5b699",
   "metadata": {},
   "outputs": [],
   "source": [
    "full_df['hour'] = np.abs(np.round(full_df['hour']))"
   ]
  },
  {
   "cell_type": "code",
   "execution_count": 10,
   "id": "0df02ab9-dde1-46f7-bf5f-7063fded1292",
   "metadata": {},
   "outputs": [],
   "source": [
    "full_df = full_df.sort_values(\"hour\")"
   ]
  },
  {
   "cell_type": "code",
   "execution_count": 11,
   "id": "43c3a9a9-e588-4ab5-9afd-8f9ce480e138",
   "metadata": {},
   "outputs": [],
   "source": [
    "articles_per_session = []\n",
    "for session_id, data in df.groupby(\"session_id\"):\n",
    "    articles_per_session += [list(enumerate(data[\"click_article_id\"].values))]"
   ]
  },
  {
   "cell_type": "code",
   "execution_count": 12,
   "id": "0d6c6de2-a719-4344-b2b9-662524e721d6",
   "metadata": {},
   "outputs": [],
   "source": [
    "x = articles_per_session"
   ]
  },
  {
   "cell_type": "code",
   "execution_count": 13,
   "id": "1b035573-01a1-48d6-8bb8-5005a71ed5f3",
   "metadata": {},
   "outputs": [
    {
     "data": {
      "text/plain": [
       "[[(0, 157541), (1, 68866)],\n",
       " [(0, 235840), (1, 96663)],\n",
       " [(0, 119592), (1, 30970)],\n",
       " [(0, 236065), (1, 236294)],\n",
       " [(0, 48915), (1, 44488)],\n",
       " [(0, 168868), (1, 207122), (2, 286413)],\n",
       " [(0, 202436), (1, 288431)],\n",
       " [(0, 235840), (1, 284847)],\n",
       " [(0, 332114), (1, 284847), (2, 114161)],\n",
       " [(0, 284346), (1, 285412)]]"
      ]
     },
     "execution_count": 13,
     "metadata": {},
     "output_type": "execute_result"
    }
   ],
   "source": [
    "x[:10]"
   ]
  },
  {
   "cell_type": "markdown",
   "id": "675368b1-c058-4d36-bbb7-5a5d81155465",
   "metadata": {},
   "source": [
    "# Create frequent patterns"
   ]
  },
  {
   "cell_type": "code",
   "execution_count": 16,
   "id": "8aa8100d-c33f-48cf-95d1-31fadbbed8d9",
   "metadata": {},
   "outputs": [],
   "source": [
    "def get_article_list(df):\n",
    "    articles_per_session = []\n",
    "    for session_id, data in df.groupby(\"session_id\"):\n",
    "        articles_per_session += [list(enumerate(data[\"click_article_id\"].values))]\n",
    "    return articles_per_session"
   ]
  },
  {
   "cell_type": "code",
   "execution_count": 17,
   "id": "3daea4cf-a4e1-4301-ba8a-15ab9d1f151e",
   "metadata": {},
   "outputs": [],
   "source": [
    "def get_frequent_ar(te, x, min_sessions):\n",
    "    te_ary = te.transform(x)\n",
    "    data = pd.DataFrame(te_ary, columns=te.columns_)\n",
    "    frequent_itemsets = fpgrowth(data, min_support=min_sessions/len(x), use_colnames=True)\n",
    "    ar = association_rules(frequent_itemsets, metric=\"support\", min_threshold=min_sessions/len(x))\n",
    "    ar[\"n\"] = ar[\"support\"] * len(x)\n",
    "    return ar"
   ]
  },
  {
   "cell_type": "code",
   "execution_count": 18,
   "id": "d1ca9d55-e053-4854-ad1f-c830989115f4",
   "metadata": {},
   "outputs": [],
   "source": [
    "def get_frequent(te, x, min_sessions):\n",
    "    te_ary = te.transform(x)\n",
    "    data = pd.DataFrame(te_ary, columns=te.columns_)\n",
    "    frequent_itemsets = fpgrowth(data, min_support=min_sessions/len(x), use_colnames=True)\n",
    "    frequent_itemsets[\"n\"] = frequent_itemsets[\"support\"] * len(x)\n",
    "    return frequent_itemsets"
   ]
  },
  {
   "cell_type": "code",
   "execution_count": 19,
   "id": "c2b46dd9-7aa8-4296-81f3-6adcf78c3164",
   "metadata": {},
   "outputs": [],
   "source": [
    "xx = get_article_list(full_df)"
   ]
  },
  {
   "cell_type": "code",
   "execution_count": 20,
   "id": "800cc8b4-e871-4ebb-b9e9-8fd909d63592",
   "metadata": {},
   "outputs": [
    {
     "data": {
      "text/plain": [
       "TransactionEncoder()"
      ]
     },
     "execution_count": 20,
     "metadata": {},
     "output_type": "execute_result"
    }
   ],
   "source": [
    "te = TransactionEncoder()\n",
    "te.fit(xx)"
   ]
  },
  {
   "cell_type": "code",
   "execution_count": 22,
   "id": "a351b74e-9cd1-4ae4-bc8f-3f85ec15720c",
   "metadata": {},
   "outputs": [],
   "source": [
    "data = full_df.loc[full_df.hour == 42]\n",
    "freq = get_frequent_ar(te, get_article_list(data), 10)\n",
    "#freq = freq.loc[(freq.antecedents == frozenset({(0, 199198)})) & (freq.consequents == frozenset({(1, 272143)}))]"
   ]
  },
  {
   "cell_type": "code",
   "execution_count": 277,
   "id": "750b3980-6ceb-4435-8eda-9f7984236b3b",
   "metadata": {},
   "outputs": [],
   "source": [
    "def get_by_pos(freq, item):\n",
    "    freq['items'] = pd.Series(freq[\"antecedents\"].apply(lambda x: list(map(lambda y: y[1], x))))\n",
    "    freq['pos'] = pd.Series(freq[\"antecedents\"].apply(lambda x: list(map(lambda y: y[0], x))))\n",
    "    freq['items'].apply(lambda x: x)\n",
    "    freq[\"ist\"] = freq[\"items\"].apply(lambda x: np.where(np.array(x) == item)[0])\n",
    "    ddd = freq.loc[freq.ist.apply(lambda x: len(x))>0, [\"n\",\"pos\", \"ist\"]]\n",
    "    ddd[\"xx\"] = freq.loc[freq.ist.apply(lambda x: len(x))>0, [\"pos\", \"ist\", \"n\"]].apply(lambda x: x.iloc[0][x.iloc[1][0]], axis=1)\n",
    "    if \"xx\" in list(ddd.columns):\n",
    "        return list(ddd.groupby(\"xx\").sum().n)\n",
    "    else: \n",
    "        return [0]"
   ]
  },
  {
   "cell_type": "code",
   "execution_count": 278,
   "id": "e4791b17-27f3-4fde-9507-b2d208021ad7",
   "metadata": {},
   "outputs": [],
   "source": [
    "def get_pos_by_hour(te, hour, min_sessions, item):\n",
    "    print(hour)\n",
    "    data = full_df.loc[full_df.hour == hour]\n",
    "    freq = get_frequent_ar(te, get_article_list(data), min_sessions)\n",
    "    return get_by_pos(freq, item)"
   ]
  },
  {
   "cell_type": "code",
   "execution_count": 282,
   "id": "035ef829-1fca-4b11-b1fe-11d9399e96fd",
   "metadata": {},
   "outputs": [
    {
     "name": "stdout",
     "output_type": "stream",
     "text": [
      "37\n",
      "38\n",
      "39\n",
      "40\n",
      "41\n",
      "42\n"
     ]
    }
   ],
   "source": [
    "li = [get_pos_by_hour(te,hour,10, 162655) for hour in range(37, 43)]"
   ]
  },
  {
   "cell_type": "code",
   "execution_count": 283,
   "id": "d32d29f0-60b3-4d69-b139-1942a23eee0a",
   "metadata": {},
   "outputs": [
    {
     "data": {
      "text/plain": [
       "[[20.0, 29.0, 11.0],\n",
       " [491.0, 627.0, 174.0, 20.0],\n",
       " [763.0, 621.0, 225.0, 11.0],\n",
       " [1113.0, 1219.0, 581.0, 113.0],\n",
       " [1407.0, 1076.0, 543.0, 80.0, 13.0],\n",
       " [2056.0, 773.0, 309.0, 24.0]]"
      ]
     },
     "execution_count": 283,
     "metadata": {},
     "output_type": "execute_result"
    }
   ],
   "source": [
    "li"
   ]
  },
  {
   "cell_type": "code",
   "execution_count": 284,
   "id": "e13408a8-a871-4658-bbf5-db3fbb912e11",
   "metadata": {},
   "outputs": [
    {
     "data": {
      "text/plain": [
       "(0.0, 1.0)"
      ]
     },
     "execution_count": 284,
     "metadata": {},
     "output_type": "execute_result"
    },
    {
     "data": {
      "image/png": "[encoded data removed]",
      "text/plain": [
       "<Figure size 432x288 with 1 Axes>"
      ]
     },
     "metadata": {
      "needs_background": "light"
     },
     "output_type": "display_data"
    }
   ],
   "source": [
    "plt.bar(list(range(int(len(li[0])))), np.array(li[0])/sum(li[0]))\n",
    "plt.ylim([0,1])"
   ]
  },
  {
   "cell_type": "code",
   "execution_count": 285,
   "id": "501e8803-55b4-4fee-8e48-5d466c4754b2",
   "metadata": {},
   "outputs": [
    {
     "data": {
      "text/plain": [
       "(0.0, 1.0)"
      ]
     },
     "execution_count": 285,
     "metadata": {},
     "output_type": "execute_result"
    },
    {
     "data": {
      "image/png": "[encoded data removed]",
      "text/plain": [
       "<Figure size 432x288 with 1 Axes>"
      ]
     },
     "metadata": {
      "needs_background": "light"
     },
     "output_type": "display_data"
    }
   ],
   "source": [
    "plt.bar(list(range(int(len(li[1])))), np.array(li[1])/sum(li[1]))\n",
    "plt.ylim([0,1])"
   ]
  },
  {
   "cell_type": "code",
   "execution_count": 286,
   "id": "2dbdb456-5081-48f9-adc2-187aef6c9610",
   "metadata": {},
   "outputs": [
    {
     "data": {
      "text/plain": [
       "(0.0, 1.0)"
      ]
     },
     "execution_count": 286,
     "metadata": {},
     "output_type": "execute_result"
    },
    {
     "data": {
      "image/png": "[encoded data removed]",
      "text/plain": [
       "<Figure size 432x288 with 1 Axes>"
      ]
     },
     "metadata": {
      "needs_background": "light"
     },
     "output_type": "display_data"
    }
   ],
   "source": [
    "plt.bar(list(range(int(len(li[2])))), np.array(li[2])/sum(li[2]))\n",
    "plt.ylim([0,1])"
   ]
  },
  {
   "cell_type": "code",
   "execution_count": 287,
   "id": "e625e493-0c5e-41c6-9c62-deca5311d8cf",
   "metadata": {},
   "outputs": [
    {
     "data": {
      "text/plain": [
       "(0.0, 1.0)"
      ]
     },
     "execution_count": 287,
     "metadata": {},
     "output_type": "execute_result"
    },
    {
     "data": {
      "image/png": "[encoded data removed]",
      "text/plain": [
       "<Figure size 432x288 with 1 Axes>"
      ]
     },
     "metadata": {
      "needs_background": "light"
     },
     "output_type": "display_data"
    }
   ],
   "source": [
    "plt.bar(list(range(int(len(li[3])))), np.array(li[3])/sum(li[3]))\n",
    "plt.ylim([0,1])"
   ]
  },
  {
   "cell_type": "code",
   "execution_count": 288,
   "id": "38806e28-7848-44ef-baf9-8ffc270b9387",
   "metadata": {},
   "outputs": [
    {
     "data": {
      "text/plain": [
       "(0.0, 1.0)"
      ]
     },
     "execution_count": 288,
     "metadata": {},
     "output_type": "execute_result"
    },
    {
     "data": {
      "image/png": "[encoded data removed]",
      "text/plain": [
       "<Figure size 432x288 with 1 Axes>"
      ]
     },
     "metadata": {
      "needs_background": "light"
     },
     "output_type": "display_data"
    }
   ],
   "source": [
    "plt.bar(list(range(int(len(li[4])))), np.array(li[4])/sum(li[4]))\n",
    "plt.ylim([0,1])"
   ]
  },
  {
   "cell_type": "code",
   "execution_count": 290,
   "id": "861b9207-8b28-4007-aa99-7072a7c0270c",
   "metadata": {},
   "outputs": [
    {
     "data": {
      "text/plain": [
       "(0.0, 1.0)"
      ]
     },
     "execution_count": 290,
     "metadata": {},
     "output_type": "execute_result"
    },
    {
     "data": {
      "image/png": "[encoded data removed]",
      "text/plain": [
       "<Figure size 432x288 with 1 Axes>"
      ]
     },
     "metadata": {
      "needs_background": "light"
     },
     "output_type": "display_data"
    }
   ],
   "source": [
    "plt.bar(list(range(int(len(li[5])))),  np.array(li[5])/sum(li[5]))\n",
    "plt.ylim([0,1])"
   ]
  },
  {
   "cell_type": "code",
   "execution_count": null,
   "id": "b6c47e50-dcd8-443f-8b7b-7c4ad16a8ed6",
   "metadata": {},
   "outputs": [],
   "source": [
    "fitems = lambda x, y: map(lambda z: z[1], x)"
   ]
  },
  {
   "cell_type": "code",
   "execution_count": 48,
   "id": "cd485e8f-d920-4808-950d-23d4525a5634",
   "metadata": {},
   "outputs": [],
   "source": [
    "def create_time_series(data, a, b, min_sessions):\n",
    "    points = []\n",
    "    for hour, data2 in data.groupby(\"hour\"):\n",
    "        freq = get_frequent_ar(te, get_article_list(data2), 5)\n",
    "        freq = freq.loc[(freq.antecedents == a) & (freq.consequents == b)]\n",
    "        if len(freq) > 0:\n",
    "            points += [((hour, freq.n.values[0]))]\n",
    "        else:\n",
    "            points += [((hour, 0))]\n",
    "        print(points[-1])\n",
    "    return points"
   ]
  },
  {
   "cell_type": "code",
   "execution_count": null,
   "id": "2a188855-c14f-408d-bb37-fd359af91459",
   "metadata": {},
   "outputs": [],
   "source": []
  },
  {
   "cell_type": "code",
   "execution_count": null,
   "id": "4ae9a75f-439a-4cbf-967e-36ffde099f2c",
   "metadata": {},
   "outputs": [],
   "source": [
    "ts = create_time_series(full_df, frozenset({(0, 199198)}), frozenset({(1, 272143)}), 5)"
   ]
  },
  {
   "cell_type": "code",
   "execution_count": 26,
   "id": "e6ef1892-e871-47b8-bcfe-2620d4f0d56e",
   "metadata": {},
   "outputs": [],
   "source": [
    "article = 119592"
   ]
  },
  {
   "cell_type": "code",
   "execution_count": 30,
   "id": "20298811-a98b-4f51-bf4a-c69e9753fa82",
   "metadata": {},
   "outputs": [],
   "source": [
    "df2 = full_df.loc[full_df.hour == 0]"
   ]
  },
  {
   "cell_type": "code",
   "execution_count": 67,
   "id": "c65d36cc-3bb7-45e7-a337-fd9162d1b646",
   "metadata": {},
   "outputs": [
    {
     "data": {
      "text/plain": [
       "<map at 0x7f1261c09730>"
      ]
     },
     "execution_count": 67,
     "metadata": {},
     "output_type": "execute_result"
    }
   ],
   "source": [
    "list(map(lambda x: map(lambda y: y[0], x), get_article_list(df2)))[0]"
   ]
  },
  {
   "cell_type": "code",
   "execution_count": 113,
   "id": "d2ae0f5d-9182-4b13-b5da-09737c8833a8",
   "metadata": {},
   "outputs": [],
   "source": [
    "d = list(filter(lambda c: len(c) > 0, \n",
    "           map(lambda x: \n",
    "               list(filter(lambda y: \n",
    "                           y[1] == article, \n",
    "                                     x)), \n",
    "                 get_article_list(df2))))\n",
    "\n",
    "data = list(map(lambda x: x[0][0], d))"
   ]
  },
  {
   "cell_type": "code",
   "execution_count": 115,
   "id": "4fc9b7a0-48e6-421e-a6da-61eb313afa10",
   "metadata": {},
   "outputs": [
    {
     "data": {
      "text/plain": [
       "(array([30., 33., 11.,  6.,  3.]),\n",
       " array([0. , 0.8, 1.6, 2.4, 3.2, 4. ]),\n",
       " <BarContainer object of 5 artists>)"
      ]
     },
     "execution_count": 115,
     "metadata": {},
     "output_type": "execute_result"
    },
    {
     "data": {
      "image/png": "[encoded data removed]",
      "text/plain": [
       "<Figure size 432x288 with 1 Axes>"
      ]
     },
     "metadata": {
      "needs_background": "light"
     },
     "output_type": "display_data"
    }
   ],
   "source": [
    "plt.hist(data, bins=max(data)+1)"
   ]
  },
  {
   "cell_type": "code",
   "execution_count": 141,
   "id": "8cdb8c31-5b76-43e5-9a40-d539b3aafeb9",
   "metadata": {},
   "outputs": [],
   "source": [
    "del article "
   ]
  },
  {
   "cell_type": "code",
   "execution_count": 152,
   "id": "00dadfb2-ca04-4108-840a-f0cf65824e8b",
   "metadata": {},
   "outputs": [],
   "source": [
    "def get_hist(df, article):\n",
    "    article_pos = list(filter(lambda c: len(c) > 0, \n",
    "                   map(lambda x: \n",
    "                       list(filter(lambda y: \n",
    "                                   y[1] == article, \n",
    "                                             x)), \n",
    "                         get_article_list(df))))\n",
    "    temp = []\n",
    "    for item in article_pos:\n",
    "        temp += item\n",
    "    return list(map(lambda x: x[0], temp))"
   ]
  },
  {
   "cell_type": "code",
   "execution_count": 157,
   "id": "d0705711-313f-42be-af7d-3315a70c2425",
   "metadata": {},
   "outputs": [],
   "source": [
    "temp = []\n",
    "for i in range(40):\n",
    "    temp += [get_hist(full_df.loc[full_df.hour == i], 119592)]"
   ]
  },
  {
   "cell_type": "code",
   "execution_count": 158,
   "id": "575d0cca-f8d0-413e-bd6a-41c93fb17bdf",
   "metadata": {},
   "outputs": [
    {
     "data": {
      "text/plain": [
       "[83,\n",
       " 228,\n",
       " 127,\n",
       " 78,\n",
       " 59,\n",
       " 78,\n",
       " 213,\n",
       " 372,\n",
       " 473,\n",
       " 329,\n",
       " 353,\n",
       " 311,\n",
       " 256,\n",
       " 173,\n",
       " 170,\n",
       " 139,\n",
       " 117,\n",
       " 121,\n",
       " 129,\n",
       " 136,\n",
       " 144,\n",
       " 113,\n",
       " 123,\n",
       " 63,\n",
       " 52,\n",
       " 25,\n",
       " 0,\n",
       " 1,\n",
       " 0,\n",
       " 0,\n",
       " 2,\n",
       " 2,\n",
       " 1,\n",
       " 2,\n",
       " 2,\n",
       " 2,\n",
       " 0,\n",
       " 1,\n",
       " 1,\n",
       " 0]"
      ]
     },
     "execution_count": 158,
     "metadata": {},
     "output_type": "execute_result"
    }
   ],
   "source": [
    "list(map(lambda x: len(x), temp))"
   ]
  },
  {
   "cell_type": "code",
   "execution_count": 162,
   "id": "ca8d4487-018d-4a60-83c8-282332b3c185",
   "metadata": {},
   "outputs": [
    {
     "data": {
      "text/plain": [
       "(array([30., 33., 11.,  6.,  3.]),\n",
       " array([0. , 0.8, 1.6, 2.4, 3.2, 4. ]),\n",
       " <BarContainer object of 5 artists>)"
      ]
     },
     "execution_count": 162,
     "metadata": {},
     "output_type": "execute_result"
    },
    {
     "data": {
      "image/png": "[encoded data removed]",
      "text/plain": [
       "<Figure size 432x288 with 1 Axes>"
      ]
     },
     "metadata": {
      "needs_background": "light"
     },
     "output_type": "display_data"
    }
   ],
   "source": [
    "dd = temp[0]\n",
    "plt.hist(dd, max(dd)+1)"
   ]
  },
  {
   "cell_type": "code",
   "execution_count": 183,
   "id": "cce2bfbb-e4ea-4351-b30f-9696841ca2a5",
   "metadata": {},
   "outputs": [
    {
     "data": {
      "image/png": "[encoded data removed]",
      "text/plain": [
       "<Figure size 720x720 with 18 Axes>"
      ]
     },
     "metadata": {
      "needs_background": "light"
     },
     "output_type": "display_data"
    }
   ],
   "source": [
    "fig, axs = plt.subplots(6,3, figsize=(10,10))\n",
    "axs = axs.flatten()\n",
    "\n",
    "temp = []\n",
    "for i in range(len(axs)):\n",
    "    temp += [get_hist(full_df.loc[full_df.hour == i], 119592)]\n",
    "    axs[i].hist(temp[i], bins=max(temp[i])+1)\n",
    "    axs[i].set_xlim([0,10])\n",
    "    axs[i].set_ylim([0,200])\n",
    "    axs[i].set_title(\"Hour: \" + str(i))\n",
    "    \n",
    "plt.tight_layout()"
   ]
  },
  {
   "cell_type": "code",
   "execution_count": null,
   "id": "eec7d722-e3bf-4950-987b-5a83f27096fd",
   "metadata": {},
   "outputs": [],
   "source": []
  }
 ],
 "metadata": {
  "kernelspec": {
   "display_name": "Python 3 (ipykernel)",
   "language": "python",
   "name": "python3"
  },
  "language_info": {
   "codemirror_mode": {
    "name": "ipython",
    "version": 3
   },
   "file_extension": ".py",
   "mimetype": "text/x-python",
   "name": "python",
   "nbconvert_exporter": "python",
   "pygments_lexer": "ipython3",
   "version": "3.8.10"
  }
 },
 "nbformat": 4,
 "nbformat_minor": 5
}
