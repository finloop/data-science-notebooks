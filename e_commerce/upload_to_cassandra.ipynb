{
 "cells": [
  {
   "cell_type": "markdown",
   "id": "d7a876cd-a9f1-4d2c-bb9f-5be3e5d44602",
   "metadata": {},
   "source": [
    "# How to upload data to cassandra"
   ]
  },
  {
   "cell_type": "code",
   "execution_count": 155,
   "id": "bfde0b3b-b320-4e07-9466-7c42fbbf87bf",
   "metadata": {},
   "outputs": [],
   "source": [
    "from cassandra.cluster import Cluster\n",
    "from cassandra.query import BatchStatement\n",
    "from cassandra import ConsistencyLevel\n",
    "import pandas as pd"
   ]
  },
  {
   "cell_type": "code",
   "execution_count": 9,
   "id": "93b36d72-961e-4e5b-8ab6-d9edb9f5aef0",
   "metadata": {},
   "outputs": [],
   "source": [
    "cluster = Cluster(['172.18.0.2'])\n",
    "session = cluster.connect('ecommerce')"
   ]
  },
  {
   "cell_type": "code",
   "execution_count": 128,
   "id": "534be257-2586-4fc2-8e4b-0be6d4ef3411",
   "metadata": {},
   "outputs": [],
   "source": [
    "res = session.execute(\"\"\"\n",
    "DROP TABLE orders_by_year_and_month;\n",
    "\"\"\")"
   ]
  },
  {
   "cell_type": "code",
   "execution_count": 129,
   "id": "21f033f1-640c-4024-bfac-fc3a64a435aa",
   "metadata": {},
   "outputs": [],
   "source": [
    "CREATE_QUERY = \"\"\"CREATE TABLE ecommerce.orders_by_year_and_month (\n",
    "    id text,\n",
    "    year int,\n",
    "    month tinyint,\n",
    "    day tinyint,\n",
    "    hour tinyint,\n",
    "    time timestamp,\n",
    "    PRIMARY KEY ((year, month), day, hour));\"\"\""
   ]
  },
  {
   "cell_type": "code",
   "execution_count": 130,
   "id": "0ca68277-13eb-49e8-8c86-531e63c0c0d1",
   "metadata": {},
   "outputs": [],
   "source": [
    "res = session.execute(CREATE_QUERY)"
   ]
  },
  {
   "cell_type": "code",
   "execution_count": 131,
   "id": "983478df-9684-4169-926d-dbfc71569d28",
   "metadata": {},
   "outputs": [
    {
     "name": "stdout",
     "output_type": "stream",
     "text": [
      "CREATE TABLE ecommerce.orders_by_year_and_month (\n",
      "    year int,\n",
      "    month tinyint,\n",
      "    day tinyint,\n",
      "    hour tinyint,\n",
      "    id text,\n",
      "    time timestamp,\n",
      "    PRIMARY KEY ((year, month), day, hour)\n",
      ") WITH CLUSTERING ORDER BY (day ASC, hour ASC)\n",
      "    AND additional_write_policy = '99p'\n",
      "    AND bloom_filter_fp_chance = 0.01\n",
      "    AND caching = {'keys': 'ALL', 'rows_per_partition': 'NONE'}\n",
      "    AND cdc = false\n",
      "    AND comment = ''\n",
      "    AND compaction = {'class': 'org.apache.cassandra.db.compaction.SizeTieredCompactionStrategy', 'max_threshold': '32', 'min_threshold': '4'}\n",
      "    AND compression = {'chunk_length_in_kb': '16', 'class': 'org.apache.cassandra.io.compress.LZ4Compressor'}\n",
      "    AND crc_check_chance = 1.0\n",
      "    AND default_time_to_live = 0\n",
      "    AND extensions = {}\n",
      "    AND gc_grace_seconds = 864000\n",
      "    AND max_index_interval = 2048\n",
      "    AND memtable_flush_period_in_ms = 0\n",
      "    AND min_index_interval = 128\n",
      "    AND read_repair = 'BLOCKING'\n",
      "    AND speculative_retry = '99p';\n"
     ]
    }
   ],
   "source": [
    "print(session.execute(\"desc orders_by_year_and_month;\").one().create_statement)"
   ]
  },
  {
   "cell_type": "code",
   "execution_count": 162,
   "id": "6bc24261-4cc1-4d7b-9c93-77a28edaf1c0",
   "metadata": {},
   "outputs": [],
   "source": [
    "df = pd.read_csv(\"e-commerce.csv\", usecols=[\"order_id\", \"order_purchase_timestamp\"])\n",
    "df[\"time\"] = pd.to_datetime(df[\"order_purchase_timestamp\"])\n",
    "df[\"year\"] = df.time.apply(lambda x: x.year)\n",
    "df[\"month\"] = df.time.apply(lambda x: x.month)"
   ]
  },
  {
   "cell_type": "code",
   "execution_count": 163,
   "id": "fd8e29f7-8130-48cc-a4d2-79339b38ca08",
   "metadata": {},
   "outputs": [],
   "source": [
    "INSERT_QUERY = \"INSERT INTO orders_by_year_and_month(id, year, month, day, hour, time) VALUES (?,?,?,?,?,?)\""
   ]
  },
  {
   "cell_type": "code",
   "execution_count": 164,
   "id": "fb7d095f-7453-49ad-9272-8d88805a1760",
   "metadata": {},
   "outputs": [],
   "source": [
    "prepare = session.prepare(INSERT_QUERY)"
   ]
  },
  {
   "cell_type": "markdown",
   "id": "6280a510-6f3b-4af3-989f-3cbe160e350a",
   "metadata": {},
   "source": [
    "## Batch upload"
   ]
  },
  {
   "cell_type": "code",
   "execution_count": 165,
   "id": "97c2f628-8187-4930-8eb4-a13aee2b206d",
   "metadata": {},
   "outputs": [],
   "source": [
    "for index, data in df.groupby([\"year\", \"month\"]):\n",
    "    batch = BatchStatement(consistency_level=ConsistencyLevel.QUORUM)\n",
    "    for item in data.itertuples():\n",
    "        batch.add(prepare,(item.order_id, item.time.year, item.time.month, item.time.day, item.time.hour, item.time.to_pydatetime()))\n",
    "    session.execute(batch)"
   ]
  },
  {
   "cell_type": "markdown",
   "id": "546fad89-c1cd-490a-b422-fde3c74514b4",
   "metadata": {},
   "source": [
    "## Upload one-by-one"
   ]
  },
  {
   "cell_type": "code",
   "execution_count": 166,
   "id": "de605909-0145-4a60-915b-bdce807f164c",
   "metadata": {},
   "outputs": [],
   "source": [
    "#for item in data.itertuples():\n",
    "#    session.execute(prepared, (item.order_id, item.time.year, item.time.month, item.time.day, item.time.hour, item.time.to_pydatetime()))"
   ]
  },
  {
   "cell_type": "code",
   "execution_count": 167,
   "id": "cd1f1f0f-d556-4bf2-8957-2d6948e1f785",
   "metadata": {},
   "outputs": [],
   "source": [
    "res = session.execute(\"SELECT * FROM ecommerce.orders_by_year_and_month WHERE YEAR=2017 AND MONTH=12;\")"
   ]
  },
  {
   "cell_type": "markdown",
   "id": "66286f10-a4ce-4af7-8f23-cd5c1e071fd3",
   "metadata": {},
   "source": [
    "## Download dataset"
   ]
  },
  {
   "cell_type": "code",
   "execution_count": 171,
   "id": "702dcb88-6439-431a-9bd7-e3f05dbc945f",
   "metadata": {},
   "outputs": [
    {
     "data": {
      "text/plain": [
       "'(1, 2, 3, 4, 5, 6, 7, 8, 9, 10, 11, 12)'"
      ]
     },
     "execution_count": 171,
     "metadata": {},
     "output_type": "execute_result"
    }
   ],
   "source": [
    "months = tuple(range(1,13))\n",
    "str(months)"
   ]
  },
  {
   "cell_type": "code",
   "execution_count": 181,
   "id": "2c832a15-90f3-406f-9fc5-43f608c253fd",
   "metadata": {},
   "outputs": [],
   "source": [
    "years = list(range(2017,2020))\n",
    "\n",
    "whole_df = pd.DataFrame(columns=[\"year\", \"month\", \"day\", \"hour\", \"id\", \"time\"])\n",
    "\n",
    "for year in years:\n",
    "    res = session.execute(f\"select * from orders_by_year_and_month WHERE YEAR={year} AND MONTH IN {months}\")\n",
    "    whole_df = whole_df.append(pd.DataFrame(res.all()))"
   ]
  },
  {
   "cell_type": "code",
   "execution_count": 182,
   "id": "ffad5ad7-f30b-45e6-abe7-cee3bad05815",
   "metadata": {},
   "outputs": [
    {
     "data": {
      "text/html": [
       "<div>\n",
       "<style scoped>\n",
       "    .dataframe tbody tr th:only-of-type {\n",
       "        vertical-align: middle;\n",
       "    }\n",
       "\n",
       "    .dataframe tbody tr th {\n",
       "        vertical-align: top;\n",
       "    }\n",
       "\n",
       "    .dataframe thead th {\n",
       "        text-align: right;\n",
       "    }\n",
       "</style>\n",
       "<table border=\"1\" class=\"dataframe\">\n",
       "  <thead>\n",
       "    <tr style=\"text-align: right;\">\n",
       "      <th></th>\n",
       "      <th>year</th>\n",
       "      <th>month</th>\n",
       "      <th>day</th>\n",
       "      <th>hour</th>\n",
       "      <th>id</th>\n",
       "      <th>time</th>\n",
       "    </tr>\n",
       "  </thead>\n",
       "  <tbody>\n",
       "    <tr>\n",
       "      <th>0</th>\n",
       "      <td>2017</td>\n",
       "      <td>1</td>\n",
       "      <td>5</td>\n",
       "      <td>11</td>\n",
       "      <td>ec7a019261fce44180373d45b442d78f</td>\n",
       "      <td>2017-01-05 11:56:06</td>\n",
       "    </tr>\n",
       "    <tr>\n",
       "      <th>1</th>\n",
       "      <td>2017</td>\n",
       "      <td>1</td>\n",
       "      <td>5</td>\n",
       "      <td>12</td>\n",
       "      <td>b95a0a8bd30aece4e94e81f0591249d8</td>\n",
       "      <td>2017-01-05 12:14:58</td>\n",
       "    </tr>\n",
       "    <tr>\n",
       "      <th>2</th>\n",
       "      <td>2017</td>\n",
       "      <td>1</td>\n",
       "      <td>5</td>\n",
       "      <td>13</td>\n",
       "      <td>f175d67589e059cbbda956f10f0702e6</td>\n",
       "      <td>2017-01-05 13:59:30</td>\n",
       "    </tr>\n",
       "    <tr>\n",
       "      <th>3</th>\n",
       "      <td>2017</td>\n",
       "      <td>1</td>\n",
       "      <td>5</td>\n",
       "      <td>14</td>\n",
       "      <td>f92641ff0446a0e1c57195ebfe76e16a</td>\n",
       "      <td>2017-01-05 14:50:54</td>\n",
       "    </tr>\n",
       "    <tr>\n",
       "      <th>4</th>\n",
       "      <td>2017</td>\n",
       "      <td>1</td>\n",
       "      <td>5</td>\n",
       "      <td>15</td>\n",
       "      <td>e1fe072ef14b519af1f0a8ed997c1301</td>\n",
       "      <td>2017-01-05 15:37:58</td>\n",
       "    </tr>\n",
       "    <tr>\n",
       "      <th>...</th>\n",
       "      <td>...</td>\n",
       "      <td>...</td>\n",
       "      <td>...</td>\n",
       "      <td>...</td>\n",
       "      <td>...</td>\n",
       "      <td>...</td>\n",
       "    </tr>\n",
       "    <tr>\n",
       "      <th>5051</th>\n",
       "      <td>2018</td>\n",
       "      <td>8</td>\n",
       "      <td>29</td>\n",
       "      <td>11</td>\n",
       "      <td>d03ca98f59480e7e76c71fa83ecd8fb6</td>\n",
       "      <td>2018-08-29 11:06:11</td>\n",
       "    </tr>\n",
       "    <tr>\n",
       "      <th>5052</th>\n",
       "      <td>2018</td>\n",
       "      <td>8</td>\n",
       "      <td>29</td>\n",
       "      <td>12</td>\n",
       "      <td>52018484704db3661b98ce838612b507</td>\n",
       "      <td>2018-08-29 12:25:59</td>\n",
       "    </tr>\n",
       "    <tr>\n",
       "      <th>5053</th>\n",
       "      <td>2018</td>\n",
       "      <td>8</td>\n",
       "      <td>29</td>\n",
       "      <td>14</td>\n",
       "      <td>168626408cb32af0ffaf76711caae1dc</td>\n",
       "      <td>2018-08-29 14:52:00</td>\n",
       "    </tr>\n",
       "    <tr>\n",
       "      <th>5054</th>\n",
       "      <td>2018</td>\n",
       "      <td>8</td>\n",
       "      <td>29</td>\n",
       "      <td>15</td>\n",
       "      <td>35a972d7f8436f405b56e36add1a7140</td>\n",
       "      <td>2018-08-29 15:00:37</td>\n",
       "    </tr>\n",
       "    <tr>\n",
       "      <th>5055</th>\n",
       "      <td>2018</td>\n",
       "      <td>9</td>\n",
       "      <td>3</td>\n",
       "      <td>9</td>\n",
       "      <td>54282e97f61c23b78330c15b154c867d</td>\n",
       "      <td>2018-09-03 09:06:57</td>\n",
       "    </tr>\n",
       "  </tbody>\n",
       "</table>\n",
       "<p>11964 rows × 6 columns</p>\n",
       "</div>"
      ],
      "text/plain": [
       "      year month day hour                                id  \\\n",
       "0     2017     1   5   11  ec7a019261fce44180373d45b442d78f   \n",
       "1     2017     1   5   12  b95a0a8bd30aece4e94e81f0591249d8   \n",
       "2     2017     1   5   13  f175d67589e059cbbda956f10f0702e6   \n",
       "3     2017     1   5   14  f92641ff0446a0e1c57195ebfe76e16a   \n",
       "4     2017     1   5   15  e1fe072ef14b519af1f0a8ed997c1301   \n",
       "...    ...   ...  ..  ...                               ...   \n",
       "5051  2018     8  29   11  d03ca98f59480e7e76c71fa83ecd8fb6   \n",
       "5052  2018     8  29   12  52018484704db3661b98ce838612b507   \n",
       "5053  2018     8  29   14  168626408cb32af0ffaf76711caae1dc   \n",
       "5054  2018     8  29   15  35a972d7f8436f405b56e36add1a7140   \n",
       "5055  2018     9   3    9  54282e97f61c23b78330c15b154c867d   \n",
       "\n",
       "                    time  \n",
       "0    2017-01-05 11:56:06  \n",
       "1    2017-01-05 12:14:58  \n",
       "2    2017-01-05 13:59:30  \n",
       "3    2017-01-05 14:50:54  \n",
       "4    2017-01-05 15:37:58  \n",
       "...                  ...  \n",
       "5051 2018-08-29 11:06:11  \n",
       "5052 2018-08-29 12:25:59  \n",
       "5053 2018-08-29 14:52:00  \n",
       "5054 2018-08-29 15:00:37  \n",
       "5055 2018-09-03 09:06:57  \n",
       "\n",
       "[11964 rows x 6 columns]"
      ]
     },
     "execution_count": 182,
     "metadata": {},
     "output_type": "execute_result"
    }
   ],
   "source": [
    "whole_df"
   ]
  },
  {
   "cell_type": "code",
   "execution_count": null,
   "id": "96a19d56-3f80-4dbc-9ccb-8c606f4d127f",
   "metadata": {},
   "outputs": [],
   "source": []
  }
 ],
 "metadata": {
  "kernelspec": {
   "display_name": "Python 3 (ipykernel)",
   "language": "python",
   "name": "python3"
  },
  "language_info": {
   "codemirror_mode": {
    "name": "ipython",
    "version": 3
   },
   "file_extension": ".py",
   "mimetype": "text/x-python",
   "name": "python",
   "nbconvert_exporter": "python",
   "pygments_lexer": "ipython3",
   "version": "3.8.10"
  }
 },
 "nbformat": 4,
 "nbformat_minor": 5
}
