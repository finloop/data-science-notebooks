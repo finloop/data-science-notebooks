{
 "cells": [
  {
   "cell_type": "markdown",
   "id": "3a8db5c7-19cb-4ca5-a1fe-e845b0bf78fa",
   "metadata": {},
   "source": [
    "# Imports"
   ]
  },
  {
   "cell_type": "code",
   "execution_count": 44,
   "id": "04c6f223-8bd3-403f-85fd-cd9fc9ab9715",
   "metadata": {},
   "outputs": [],
   "source": [
    "import pandas as pd\n",
    "import numpy as np\n",
    "import seaborn as sns\n",
    "import matplotlib.pylab as plt\n",
    "\n",
    "from mlxtend.preprocessing import TransactionEncoder\n",
    "from mlxtend.frequent_patterns import apriori, fpmax, fpgrowth, association_rules"
   ]
  },
  {
   "cell_type": "markdown",
   "id": "5e7790e2-399c-48d1-bdd4-abf4db1e0d8d",
   "metadata": {},
   "source": [
    "# Load data"
   ]
  },
  {
   "cell_type": "code",
   "execution_count": 73,
   "id": "8cddf392-17ac-4206-92ff-193b1f4d5391",
   "metadata": {},
   "outputs": [],
   "source": [
    "customers = pd.read_csv(\"./data/olist_customers_dataset.csv\")\n",
    "sellers = pd.read_csv(\"./data/olist_sellers_dataset.csv\")\n",
    "reviews = pd.read_csv(\"./data/olist_order_reviews_dataset.csv\")\n",
    "items = pd.read_csv(\"./data/olist_order_items_dataset.csv\")\n",
    "products = pd.read_csv(\"./data/olist_products_dataset.csv\")\n",
    "geolocation = pd.read_csv(\"./data/olist_geolocation_dataset.csv\")\n",
    "category_name_translation = pd.read_csv(\"./data/product_category_name_translation.csv\")\n",
    "orders = pd.read_csv(\"./data/olist_orders_dataset.csv\")\n",
    "order_payments = pd.read_csv(\"./data/olist_order_payments_dataset.csv\")"
   ]
  },
  {
   "cell_type": "code",
   "execution_count": 74,
   "id": "afa33509-dacc-4801-a656-9da2d71ae22b",
   "metadata": {},
   "outputs": [],
   "source": [
    "datasets = [customers, sellers, reviews, items, products, geolocation, category_name_translation, orders, order_payments]"
   ]
  },
  {
   "cell_type": "code",
   "execution_count": 4,
   "id": "20bb7f08-c5f9-4d0e-b124-176a475b9c3f",
   "metadata": {},
   "outputs": [],
   "source": [
    "df = orders.merge(items, on=\"order_id\").merge(products, on = \"product_id\").merge(sellers, on=\"seller_id\").merge(customers, on=\"customer_id\")"
   ]
  },
  {
   "cell_type": "markdown",
   "id": "1677c4fd-7cac-4855-a11b-058b7b1cf1f0",
   "metadata": {},
   "source": [
    "# Create list of products"
   ]
  },
  {
   "cell_type": "code",
   "execution_count": 78,
   "id": "2025cbd2-2e74-4cb7-a351-d94a6984d9e8",
   "metadata": {},
   "outputs": [],
   "source": [
    "df2 = products.merge(items, on=\"product_id\").merge(orders, on=\"order_id\")"
   ]
  },
  {
   "cell_type": "code",
   "execution_count": 79,
   "id": "0fbfda1a-803a-419f-80ff-b50dce646ddb",
   "metadata": {},
   "outputs": [
    {
     "data": {
      "text/plain": [
       "Index(['product_id', 'product_category_name', 'product_name_lenght',\n",
       "       'product_description_lenght', 'product_photos_qty', 'product_weight_g',\n",
       "       'product_length_cm', 'product_height_cm', 'product_width_cm',\n",
       "       'order_id', 'order_item_id', 'seller_id', 'shipping_limit_date',\n",
       "       'price', 'freight_value', 'customer_id', 'order_status',\n",
       "       'order_purchase_timestamp', 'order_approved_at',\n",
       "       'order_delivered_carrier_date', 'order_delivered_customer_date',\n",
       "       'order_estimated_delivery_date'],\n",
       "      dtype='object')"
      ]
     },
     "execution_count": 79,
     "metadata": {},
     "output_type": "execute_result"
    }
   ],
   "source": [
    "df2.columns"
   ]
  },
  {
   "cell_type": "code",
   "execution_count": 80,
   "id": "bb74c0e0-541c-4190-b9c8-c1de7501d5ab",
   "metadata": {},
   "outputs": [],
   "source": [
    "x = []\n",
    "for id_, items in df2.groupby(\"customer_id\"):\n",
    "    x.append(list(items['product_category_name'].astype(str)))"
   ]
  },
  {
   "cell_type": "code",
   "execution_count": 81,
   "id": "2c1cdecc-0a99-4c75-b273-6e0d73111f01",
   "metadata": {},
   "outputs": [
    {
     "data": {
      "text/plain": [
       "[['brinquedos'],\n",
       " ['beleza_saude'],\n",
       " ['bebes'],\n",
       " ['cool_stuff'],\n",
       " ['cama_mesa_banho'],\n",
       " ['esporte_lazer'],\n",
       " ['fashion_bolsas_e_acessorios'],\n",
       " ['brinquedos'],\n",
       " ['fashion_bolsas_e_acessorios'],\n",
       " ['pet_shop']]"
      ]
     },
     "execution_count": 81,
     "metadata": {},
     "output_type": "execute_result"
    }
   ],
   "source": [
    "x[:10]"
   ]
  },
  {
   "cell_type": "markdown",
   "id": "25e8e938-cede-4ae4-8c1b-630e995651ff",
   "metadata": {},
   "source": [
    "# Create list of frequent items"
   ]
  },
  {
   "cell_type": "code",
   "execution_count": 82,
   "id": "5bfa94d0-8e91-4162-9488-1d7920fac28f",
   "metadata": {},
   "outputs": [
    {
     "data": {
      "text/html": [
       "<div>\n",
       "<style scoped>\n",
       "    .dataframe tbody tr th:only-of-type {\n",
       "        vertical-align: middle;\n",
       "    }\n",
       "\n",
       "    .dataframe tbody tr th {\n",
       "        vertical-align: top;\n",
       "    }\n",
       "\n",
       "    .dataframe thead th {\n",
       "        text-align: right;\n",
       "    }\n",
       "</style>\n",
       "<table border=\"1\" class=\"dataframe\">\n",
       "  <thead>\n",
       "    <tr style=\"text-align: right;\">\n",
       "      <th></th>\n",
       "      <th>support</th>\n",
       "      <th>itemsets</th>\n",
       "    </tr>\n",
       "  </thead>\n",
       "  <tbody>\n",
       "    <tr>\n",
       "      <th>0</th>\n",
       "      <td>0.039385</td>\n",
       "      <td>(brinquedos)</td>\n",
       "    </tr>\n",
       "    <tr>\n",
       "      <th>1</th>\n",
       "      <td>0.089555</td>\n",
       "      <td>(beleza_saude)</td>\n",
       "    </tr>\n",
       "    <tr>\n",
       "      <th>2</th>\n",
       "      <td>0.029240</td>\n",
       "      <td>(bebes)</td>\n",
       "    </tr>\n",
       "    <tr>\n",
       "      <th>3</th>\n",
       "      <td>0.036811</td>\n",
       "      <td>(cool_stuff)</td>\n",
       "    </tr>\n",
       "    <tr>\n",
       "      <th>4</th>\n",
       "      <td>0.095443</td>\n",
       "      <td>(cama_mesa_banho)</td>\n",
       "    </tr>\n",
       "  </tbody>\n",
       "</table>\n",
       "</div>"
      ],
      "text/plain": [
       "    support           itemsets\n",
       "0  0.039385       (brinquedos)\n",
       "1  0.089555     (beleza_saude)\n",
       "2  0.029240            (bebes)\n",
       "3  0.036811       (cool_stuff)\n",
       "4  0.095443  (cama_mesa_banho)"
      ]
     },
     "execution_count": 82,
     "metadata": {},
     "output_type": "execute_result"
    }
   ],
   "source": [
    "te = TransactionEncoder()\n",
    "te_ary = te.fit(x).transform(x)\n",
    "df = pd.DataFrame(te_ary, columns=te.columns_)\n",
    "\n",
    "frequent_itemsets = fpgrowth(df, min_support=0.00005, use_colnames=True)\n",
    "frequent_itemsets.head(5)"
   ]
  },
  {
   "cell_type": "code",
   "execution_count": 83,
   "id": "55701095-b25f-4428-8f2f-de6a1abdc0c2",
   "metadata": {},
   "outputs": [
    {
     "data": {
      "text/html": [
       "<div>\n",
       "<style scoped>\n",
       "    .dataframe tbody tr th:only-of-type {\n",
       "        vertical-align: middle;\n",
       "    }\n",
       "\n",
       "    .dataframe tbody tr th {\n",
       "        vertical-align: top;\n",
       "    }\n",
       "\n",
       "    .dataframe thead th {\n",
       "        text-align: right;\n",
       "    }\n",
       "</style>\n",
       "<table border=\"1\" class=\"dataframe\">\n",
       "  <thead>\n",
       "    <tr style=\"text-align: right;\">\n",
       "      <th></th>\n",
       "      <th>antecedents</th>\n",
       "      <th>consequents</th>\n",
       "      <th>antecedent support</th>\n",
       "      <th>consequent support</th>\n",
       "      <th>support</th>\n",
       "      <th>confidence</th>\n",
       "      <th>lift</th>\n",
       "      <th>leverage</th>\n",
       "      <th>conviction</th>\n",
       "    </tr>\n",
       "  </thead>\n",
       "  <tbody>\n",
       "    <tr>\n",
       "      <th>0</th>\n",
       "      <td>(moveis_decoracao)</td>\n",
       "      <td>(cama_mesa_banho)</td>\n",
       "      <td>0.065362</td>\n",
       "      <td>0.095443</td>\n",
       "      <td>0.000709</td>\n",
       "      <td>0.010854</td>\n",
       "      <td>0.113726</td>\n",
       "      <td>-0.005529</td>\n",
       "      <td>0.914483</td>\n",
       "    </tr>\n",
       "    <tr>\n",
       "      <th>1</th>\n",
       "      <td>(casa_construcao)</td>\n",
       "      <td>(moveis_decoracao)</td>\n",
       "      <td>0.004966</td>\n",
       "      <td>0.065362</td>\n",
       "      <td>0.000132</td>\n",
       "      <td>0.026531</td>\n",
       "      <td>0.405903</td>\n",
       "      <td>-0.000193</td>\n",
       "      <td>0.960110</td>\n",
       "    </tr>\n",
       "    <tr>\n",
       "      <th>2</th>\n",
       "      <td>(casa_construcao)</td>\n",
       "      <td>(ferramentas_jardim)</td>\n",
       "      <td>0.004966</td>\n",
       "      <td>0.035656</td>\n",
       "      <td>0.000071</td>\n",
       "      <td>0.014286</td>\n",
       "      <td>0.400658</td>\n",
       "      <td>-0.000106</td>\n",
       "      <td>0.978320</td>\n",
       "    </tr>\n",
       "    <tr>\n",
       "      <th>3</th>\n",
       "      <td>(construcao_ferramentas_iluminacao)</td>\n",
       "      <td>(moveis_decoracao)</td>\n",
       "      <td>0.002473</td>\n",
       "      <td>0.065362</td>\n",
       "      <td>0.000111</td>\n",
       "      <td>0.045082</td>\n",
       "      <td>0.689728</td>\n",
       "      <td>-0.000050</td>\n",
       "      <td>0.978763</td>\n",
       "    </tr>\n",
       "    <tr>\n",
       "      <th>4</th>\n",
       "      <td>(audio)</td>\n",
       "      <td>(relogios_presentes)</td>\n",
       "      <td>0.003547</td>\n",
       "      <td>0.057000</td>\n",
       "      <td>0.000061</td>\n",
       "      <td>0.017143</td>\n",
       "      <td>0.300750</td>\n",
       "      <td>-0.000141</td>\n",
       "      <td>0.959447</td>\n",
       "    </tr>\n",
       "    <tr>\n",
       "      <th>5</th>\n",
       "      <td>(moveis_sala)</td>\n",
       "      <td>(moveis_decoracao)</td>\n",
       "      <td>0.004277</td>\n",
       "      <td>0.065362</td>\n",
       "      <td>0.000071</td>\n",
       "      <td>0.016588</td>\n",
       "      <td>0.253782</td>\n",
       "      <td>-0.000209</td>\n",
       "      <td>0.950403</td>\n",
       "    </tr>\n",
       "    <tr>\n",
       "      <th>6</th>\n",
       "      <td>(casa_conforto)</td>\n",
       "      <td>(cama_mesa_banho)</td>\n",
       "      <td>0.004024</td>\n",
       "      <td>0.095443</td>\n",
       "      <td>0.000436</td>\n",
       "      <td>0.108312</td>\n",
       "      <td>1.134835</td>\n",
       "      <td>0.000052</td>\n",
       "      <td>1.014432</td>\n",
       "    </tr>\n",
       "    <tr>\n",
       "      <th>7</th>\n",
       "      <td>(casa_conforto)</td>\n",
       "      <td>(moveis_decoracao)</td>\n",
       "      <td>0.004024</td>\n",
       "      <td>0.065362</td>\n",
       "      <td>0.000061</td>\n",
       "      <td>0.015113</td>\n",
       "      <td>0.231226</td>\n",
       "      <td>-0.000202</td>\n",
       "      <td>0.948980</td>\n",
       "    </tr>\n",
       "    <tr>\n",
       "      <th>8</th>\n",
       "      <td>(artes)</td>\n",
       "      <td>(moveis_decoracao)</td>\n",
       "      <td>0.002047</td>\n",
       "      <td>0.065362</td>\n",
       "      <td>0.000051</td>\n",
       "      <td>0.024752</td>\n",
       "      <td>0.378699</td>\n",
       "      <td>-0.000083</td>\n",
       "      <td>0.958360</td>\n",
       "    </tr>\n",
       "  </tbody>\n",
       "</table>\n",
       "</div>"
      ],
      "text/plain": [
       "                           antecedents           consequents  \\\n",
       "0                   (moveis_decoracao)     (cama_mesa_banho)   \n",
       "1                    (casa_construcao)    (moveis_decoracao)   \n",
       "2                    (casa_construcao)  (ferramentas_jardim)   \n",
       "3  (construcao_ferramentas_iluminacao)    (moveis_decoracao)   \n",
       "4                              (audio)  (relogios_presentes)   \n",
       "5                        (moveis_sala)    (moveis_decoracao)   \n",
       "6                      (casa_conforto)     (cama_mesa_banho)   \n",
       "7                      (casa_conforto)    (moveis_decoracao)   \n",
       "8                              (artes)    (moveis_decoracao)   \n",
       "\n",
       "   antecedent support  consequent support   support  confidence      lift  \\\n",
       "0            0.065362            0.095443  0.000709    0.010854  0.113726   \n",
       "1            0.004966            0.065362  0.000132    0.026531  0.405903   \n",
       "2            0.004966            0.035656  0.000071    0.014286  0.400658   \n",
       "3            0.002473            0.065362  0.000111    0.045082  0.689728   \n",
       "4            0.003547            0.057000  0.000061    0.017143  0.300750   \n",
       "5            0.004277            0.065362  0.000071    0.016588  0.253782   \n",
       "6            0.004024            0.095443  0.000436    0.108312  1.134835   \n",
       "7            0.004024            0.065362  0.000061    0.015113  0.231226   \n",
       "8            0.002047            0.065362  0.000051    0.024752  0.378699   \n",
       "\n",
       "   leverage  conviction  \n",
       "0 -0.005529    0.914483  \n",
       "1 -0.000193    0.960110  \n",
       "2 -0.000106    0.978320  \n",
       "3 -0.000050    0.978763  \n",
       "4 -0.000141    0.959447  \n",
       "5 -0.000209    0.950403  \n",
       "6  0.000052    1.014432  \n",
       "7 -0.000202    0.948980  \n",
       "8 -0.000083    0.958360  "
      ]
     },
     "execution_count": 83,
     "metadata": {},
     "output_type": "execute_result"
    }
   ],
   "source": [
    "\n",
    "association_rules(frequent_itemsets, metric=\"confidence\", min_threshold=0.01)"
   ]
  }
 ],
 "metadata": {
  "kernelspec": {
   "display_name": "Python 3 (ipykernel)",
   "language": "python",
   "name": "python3"
  },
  "language_info": {
   "codemirror_mode": {
    "name": "ipython",
    "version": 3
   },
   "file_extension": ".py",
   "mimetype": "text/x-python",
   "name": "python",
   "nbconvert_exporter": "python",
   "pygments_lexer": "ipython3",
   "version": "3.8.10"
  }
 },
 "nbformat": 4,
 "nbformat_minor": 5
}
