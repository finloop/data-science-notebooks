{
 "cells": [
  {
   "cell_type": "markdown",
   "id": "aa76c29c-42cb-4697-adeb-a4ef660fe598",
   "metadata": {},
   "source": [
    "# Imports"
   ]
  },
  {
   "cell_type": "code",
   "execution_count": 2,
   "id": "79f7dbf7-a819-4b6f-a3cf-1d173f89598b",
   "metadata": {},
   "outputs": [],
   "source": [
    "import pandas as pd\n",
    "import matplotlib.pylab as plt\n",
    "import seaborn as sns\n",
    "import numpy as np"
   ]
  },
  {
   "cell_type": "markdown",
   "id": "39da310c-2987-4a88-9c38-bfdea089b8b5",
   "metadata": {
    "tags": []
   },
   "source": [
    "## Load data"
   ]
  },
  {
   "cell_type": "code",
   "execution_count": 4,
   "id": "f1434eca-f01a-4037-a248-957557f37f65",
   "metadata": {},
   "outputs": [],
   "source": [
    "df = pd.read_csv(\"e-commerce.csv\")"
   ]
  },
  {
   "cell_type": "code",
   "execution_count": 7,
   "id": "037a09ee-f23c-4f8e-b9fb-e00cf1c5819d",
   "metadata": {},
   "outputs": [
    {
     "data": {
      "text/plain": [
       "Unnamed: 0                         int64\n",
       "order_id                          object\n",
       "customer_id                       object\n",
       "order_status                      object\n",
       "order_purchase_timestamp          object\n",
       "order_approved_at                 object\n",
       "order_delivered_carrier_date      object\n",
       "order_delivered_customer_date     object\n",
       "order_estimated_delivery_date     object\n",
       "order_item_id                      int64\n",
       "product_id                        object\n",
       "seller_id                         object\n",
       "shipping_limit_date               object\n",
       "price                            float64\n",
       "freight_value                    float64\n",
       "product_category_name             object\n",
       "product_name_lenght              float64\n",
       "product_description_lenght       float64\n",
       "product_photos_qty               float64\n",
       "product_weight_g                 float64\n",
       "product_length_cm                float64\n",
       "product_height_cm                float64\n",
       "product_width_cm                 float64\n",
       "seller_zip_code_prefix             int64\n",
       "seller_city                       object\n",
       "seller_state                      object\n",
       "customer_unique_id                object\n",
       "customer_zip_code_prefix           int64\n",
       "customer_city                     object\n",
       "customer_state                    object\n",
       "expected_delivery_timedelta        int64\n",
       "delivery_time                      int64\n",
       "product_volume                   float64\n",
       "same_city                           bool\n",
       "same_state                          bool\n",
       "dtype: object"
      ]
     },
     "execution_count": 7,
     "metadata": {},
     "output_type": "execute_result"
    }
   ],
   "source": [
    "df.dtypes"
   ]
  },
  {
   "cell_type": "markdown",
   "id": "1e11852a-793f-4b27-b81d-0dabd381020e",
   "metadata": {},
   "source": [
    "### Fix dtypes"
   ]
  },
  {
   "cell_type": "code",
   "execution_count": 11,
   "id": "082af352-e757-439e-8bde-379605bbf81d",
   "metadata": {},
   "outputs": [],
   "source": [
    "#date_cols = [order_delivered_customer_date\", \"order_estimated_delivery_date\", \"order_purchase_timestamp\", \"order_delivered_customer_date\"]\n",
    "\n",
    "df[\"order_delivered_carrier_date\"] = pd.to_datetime(df[\"order_delivered_carrier_date\"])\n",
    "df[\"order_estimated_delivery_date\"] = pd.to_datetime(df[\"order_estimated_delivery_date\"])\n",
    "df[\"order_purchase_timestamp\"] = pd.to_datetime(df[\"order_purchase_timestamp\"])\n",
    "df[\"order_delivered_customer_date\"] = pd.to_datetime(df[\"order_delivered_customer_date\"])\n",
    "df['order_approved_at'] = pd.to_datetime(df['order_approved_at'])\n",
    "df['shipping_limit_date'] = pd.to_datetime(df['shipping_limit_date'])\n",
    "\n",
    "df['expected_delivery_timedelta'] = pd.to_numeric(df['order_estimated_delivery_date']- df[\"order_purchase_timestamp\"])\n",
    "df['delivery_time'] = pd.to_numeric(df[\"order_delivered_customer_date\"] - df['order_purchase_timestamp'])\n",
    "\n",
    "df['product_volume'] = df[\"product_length_cm\"] * df[\"product_height_cm\"] * df[\"product_width_cm\"]\n",
    "\n",
    "df[\"same_city\"] = df[\"customer_city\"] == df[\"seller_city\"]\n",
    "df[\"same_state\"] = df[\"customer_state\"] == df[\"seller_state\"]"
   ]
  },
  {
   "cell_type": "code",
   "execution_count": 12,
   "id": "4f098261-537c-41c6-bfc7-46fe773d9743",
   "metadata": {},
   "outputs": [
    {
     "data": {
      "text/plain": [
       "Unnamed: 0                                int64\n",
       "order_id                                 object\n",
       "customer_id                              object\n",
       "order_status                             object\n",
       "order_purchase_timestamp         datetime64[ns]\n",
       "order_approved_at                datetime64[ns]\n",
       "order_delivered_carrier_date     datetime64[ns]\n",
       "order_delivered_customer_date    datetime64[ns]\n",
       "order_estimated_delivery_date    datetime64[ns]\n",
       "order_item_id                             int64\n",
       "product_id                               object\n",
       "seller_id                                object\n",
       "shipping_limit_date              datetime64[ns]\n",
       "price                                   float64\n",
       "freight_value                           float64\n",
       "product_category_name                    object\n",
       "product_name_lenght                     float64\n",
       "product_description_lenght              float64\n",
       "product_photos_qty                      float64\n",
       "product_weight_g                        float64\n",
       "product_length_cm                       float64\n",
       "product_height_cm                       float64\n",
       "product_width_cm                        float64\n",
       "seller_zip_code_prefix                    int64\n",
       "seller_city                              object\n",
       "seller_state                             object\n",
       "customer_unique_id                       object\n",
       "customer_zip_code_prefix                  int64\n",
       "customer_city                            object\n",
       "customer_state                           object\n",
       "expected_delivery_timedelta               int64\n",
       "delivery_time                             int64\n",
       "product_volume                          float64\n",
       "same_city                                  bool\n",
       "same_state                                 bool\n",
       "dtype: object"
      ]
     },
     "execution_count": 12,
     "metadata": {},
     "output_type": "execute_result"
    }
   ],
   "source": [
    "df.dtypes"
   ]
  },
  {
   "cell_type": "markdown",
   "id": "c7c99220-d400-4c7e-a174-4c9a5a05f81d",
   "metadata": {},
   "source": [
    "# Data exploration"
   ]
  },
  {
   "cell_type": "markdown",
   "id": "10f4bff3-2c2b-4a95-8bd6-fbe6650677f4",
   "metadata": {},
   "source": [
    "## **How many customers are there?**"
   ]
  },
  {
   "cell_type": "code",
   "execution_count": 20,
   "id": "1f553605-b5ad-4fb7-869c-a42a4a2e0d8c",
   "metadata": {},
   "outputs": [
    {
     "data": {
      "text/plain": [
       "98666"
      ]
     },
     "execution_count": 20,
     "metadata": {},
     "output_type": "execute_result"
    }
   ],
   "source": [
    "df.customer_id.nunique()"
   ]
  },
  {
   "cell_type": "markdown",
   "id": "ee020415-fb84-4090-93df-7307e06f14e5",
   "metadata": {},
   "source": [
    "## **Whats the distribution on number of purchases per customer?**"
   ]
  },
  {
   "cell_type": "code",
   "execution_count": 24,
   "id": "e433b869-7257-45de-945d-ec0897a96558",
   "metadata": {},
   "outputs": [],
   "source": [
    "cutomer_order_num = df.groupby(\"customer_id\").order_item_id.count()"
   ]
  },
  {
   "cell_type": "code",
   "execution_count": 30,
   "id": "15a87cfa-9612-470d-9972-9197d18d56bf",
   "metadata": {},
   "outputs": [
    {
     "data": {
      "text/plain": [
       "1     88863\n",
       "2      7516\n",
       "3      1322\n",
       "4       505\n",
       "5       204\n",
       "6       198\n",
       "7        22\n",
       "10        8\n",
       "8         8\n",
       "12        5\n",
       "11        4\n",
       "9         3\n",
       "15        2\n",
       "14        2\n",
       "20        2\n",
       "13        1\n",
       "21        1\n",
       "Name: order_item_id, dtype: int64"
      ]
     },
     "execution_count": 30,
     "metadata": {},
     "output_type": "execute_result"
    }
   ],
   "source": [
    "cutomer_order_num.value_counts()"
   ]
  },
  {
   "cell_type": "code",
   "execution_count": 32,
   "id": "048d976b-904a-4542-a503-b88c91f03739",
   "metadata": {},
   "outputs": [
    {
     "data": {
      "text/plain": [
       "1     78.884154\n",
       "2      6.671993\n",
       "3      1.173546\n",
       "4      0.448291\n",
       "5      0.181092\n",
       "6      0.175766\n",
       "7      0.019530\n",
       "10     0.007102\n",
       "8      0.007102\n",
       "12     0.004439\n",
       "11     0.003551\n",
       "9      0.002663\n",
       "15     0.001775\n",
       "14     0.001775\n",
       "20     0.001775\n",
       "13     0.000888\n",
       "21     0.000888\n",
       "Name: order_item_id, dtype: float64"
      ]
     },
     "execution_count": 32,
     "metadata": {},
     "output_type": "execute_result"
    }
   ],
   "source": [
    "cutomer_order_num.value_counts() / np.sum(cutomer_order_num) * 100"
   ]
  },
  {
   "cell_type": "markdown",
   "id": "0ba4ce5d-8045-497b-bc42-919bd1e1b721",
   "metadata": {},
   "source": [
    "So 78% of customers only made one purchase. So 22% of people made two or more purchases."
   ]
  },
  {
   "cell_type": "markdown",
   "id": "d1dbd621-52dd-4d5b-b107-14977e6d5a50",
   "metadata": {},
   "source": [
    "## **Is there a month where theres more one-time purchases**?"
   ]
  },
  {
   "cell_type": "code",
   "execution_count": 51,
   "id": "d5a03e8d-259e-46a8-8ab6-7e3b27dbfa4d",
   "metadata": {},
   "outputs": [],
   "source": [
    "df[\"month\"] = df.order_purchase_timestamp.dt.month # Create month column\n",
    "one_time_customers = df[df.customer_id.isin(cutomer_order_num[cutomer_order_num == 1].index.values)] # Select one-time customers"
   ]
  },
  {
   "cell_type": "code",
   "execution_count": 56,
   "id": "61a7272d-ec0b-4ba3-a3b4-219063260d87",
   "metadata": {},
   "outputs": [
    {
     "data": {
      "text/plain": [
       "Text(0.5, 1.0, 'Number of one-time purchasers in a given month')"
      ]
     },
     "execution_count": 56,
     "metadata": {},
     "output_type": "execute_result"
    },
    {
     "data": {
      "image/png": "[encoded data removed]",
      "text/plain": [
       "<Figure size 432x288 with 1 Axes>"
      ]
     },
     "metadata": {
      "needs_background": "light"
     },
     "output_type": "display_data"
    }
   ],
   "source": [
    "one_time_customers.groupby(\"month\").count()[\"order_id\"].plot()\n",
    "plt.title(\"Number of one-time purchasers in a given month\")"
   ]
  },
  {
   "cell_type": "markdown",
   "id": "e51a54fa-d59f-4a24-9688-fd3bcb2d6885",
   "metadata": {},
   "source": [
    "There is, **but is is due to less overall purchases?**"
   ]
  },
  {
   "cell_type": "code",
   "execution_count": 58,
   "id": "27a0d549-313e-43cf-b808-c5fdd2b03ae9",
   "metadata": {},
   "outputs": [
    {
     "data": {
      "text/plain": [
       "Text(0.5, 1.0, 'Number of purchases in a given month')"
      ]
     },
     "execution_count": 58,
     "metadata": {},
     "output_type": "execute_result"
    },
    {
     "data": {
      "image/png": "[encoded data removed]",
      "text/plain": [
       "<Figure size 432x288 with 1 Axes>"
      ]
     },
     "metadata": {
      "needs_background": "light"
     },
     "output_type": "display_data"
    }
   ],
   "source": [
    "df.groupby(\"month\").count()[\"order_id\"].plot()\n",
    "plt.title(\"Number of purchases in a given month\")"
   ]
  },
  {
   "cell_type": "code",
   "execution_count": 63,
   "id": "141f9f42-741f-45c7-93a9-3561ca25a6cd",
   "metadata": {},
   "outputs": [
    {
     "data": {
      "text/plain": [
       "Text(0.5, 1.0, 'Ratio between one-time purchases and overall purchases')"
      ]
     },
     "execution_count": 63,
     "metadata": {},
     "output_type": "execute_result"
    },
    {
     "data": {
      "image/png": "[encoded data removed]",
      "text/plain": [
       "<Figure size 432x288 with 1 Axes>"
      ]
     },
     "metadata": {
      "needs_background": "light"
     },
     "output_type": "display_data"
    }
   ],
   "source": [
    "(one_time_customers.groupby(\"month\").count()[\"order_id\"] / df.groupby(\"month\").count()[\"order_id\"]).plot()\n",
    "plt.ylim([0.5, 1])\n",
    "plt.title(\"Ratio between one-time purchases and overall purchases\")"
   ]
  },
  {
   "cell_type": "markdown",
   "id": "f968ae6e-e686-4981-9c9c-461597e65f37",
   "metadata": {},
   "source": [
    "We can see that this ratio increases a little bit in december, propably due to christmas."
   ]
  },
  {
   "cell_type": "markdown",
   "id": "29091176-86af-4922-be05-c28a310a5431",
   "metadata": {},
   "source": [
    "## What customers get the most profit per order?"
   ]
  },
  {
   "cell_type": "code",
   "execution_count": 69,
   "id": "27ccfe99-80da-4ef7-a162-31b0a42b7ec6",
   "metadata": {},
   "outputs": [],
   "source": [
    "df[\"total_orders\"] = df[\"customer_id\"].map(df[\"customer_id\"].value_counts())"
   ]
  },
  {
   "cell_type": "code",
   "execution_count": 71,
   "id": "e31b4c5e-d976-450d-b286-faab020739b1",
   "metadata": {},
   "outputs": [
    {
     "data": {
      "text/plain": [
       "total_orders\n",
       "1     130.378012\n",
       "2      87.547858\n",
       "3      79.194894\n",
       "4      79.394262\n",
       "5      76.700980\n",
       "6      69.116936\n",
       "7      69.676429\n",
       "8     265.670000\n",
       "9      86.833333\n",
       "10    145.632000\n",
       "11     71.328409\n",
       "12     46.305000\n",
       "13     29.990000\n",
       "14     44.495000\n",
       "15     58.245000\n",
       "20     99.350000\n",
       "21      1.514286\n",
       "Name: price, dtype: float64"
      ]
     },
     "execution_count": 71,
     "metadata": {},
     "output_type": "execute_result"
    }
   ],
   "source": [
    "df.groupby(\"total_orders\").price.mean()"
   ]
  },
  {
   "cell_type": "markdown",
   "id": "112554d6-32f9-4c63-94a4-dd0eae6d8df5",
   "metadata": {},
   "source": [
    "We can see that one-time customers spend more money per order."
   ]
  },
  {
   "cell_type": "markdown",
   "id": "11c63237-ef3e-4d91-8b3e-aaff8191d7b5",
   "metadata": {},
   "source": [
    "**Average money spend on one order by one-time customer**"
   ]
  },
  {
   "cell_type": "code",
   "execution_count": 81,
   "id": "0d28b89e-57b6-40eb-b700-7de781ebac9f",
   "metadata": {},
   "outputs": [
    {
     "data": {
      "text/plain": [
       "130.3780119959938"
      ]
     },
     "execution_count": 81,
     "metadata": {},
     "output_type": "execute_result"
    }
   ],
   "source": [
    "df[df[\"total_orders\"] == 1].price.mean()"
   ]
  },
  {
   "cell_type": "markdown",
   "id": "2ca61e81-4921-4d38-ad2f-f777826085e7",
   "metadata": {},
   "source": [
    "**Average money spend on one order by returning customer**"
   ]
  },
  {
   "cell_type": "code",
   "execution_count": 78,
   "id": "02e89b10-220c-4047-9413-3bc36a078d58",
   "metadata": {},
   "outputs": [
    {
     "data": {
      "text/plain": [
       "84.32599403035272"
      ]
     },
     "execution_count": 78,
     "metadata": {},
     "output_type": "execute_result"
    }
   ],
   "source": [
    "df[df[\"total_orders\"] > 1].price.mean() # Average money spend on one order by returning customer"
   ]
  },
  {
   "cell_type": "markdown",
   "id": "2a8e44b7-535f-4e87-8bea-f9f7c03fca39",
   "metadata": {},
   "source": [
    "**Mean total money spend by returning customer**"
   ]
  },
  {
   "cell_type": "code",
   "execution_count": 83,
   "id": "a4cfd4f2-ce64-4e7f-80ae-87efdbd5fc9f",
   "metadata": {},
   "outputs": [
    {
     "data": {
      "text/plain": [
       "204.61720085688054"
      ]
     },
     "execution_count": 83,
     "metadata": {},
     "output_type": "execute_result"
    }
   ],
   "source": [
    "df[df[\"total_orders\"] > 1].groupby(\"customer_id\").price.sum().mean() # Mean total money spend by returning customer"
   ]
  },
  {
   "cell_type": "markdown",
   "id": "f9dab75f-e7b3-4fa9-9857-175116f33860",
   "metadata": {},
   "source": [
    "So even though, one-time customers spend more money per order. Returning customers spend more money overall."
   ]
  },
  {
   "cell_type": "markdown",
   "id": "c8ff2ee6-5f66-4c6a-8a24-a1134ea52002",
   "metadata": {},
   "source": [
    "## Does that mean that we can predict a returning customer by his first purchase?"
   ]
  },
  {
   "cell_type": "code",
   "execution_count": 90,
   "id": "4d8b2391-82ef-4a18-b4c5-be7cc7b25b3a",
   "metadata": {},
   "outputs": [],
   "source": [
    "first_purchase = df.sort_values(\"order_purchase_timestamp\", ascending=True).groupby(\"customer_id\").price.first()"
   ]
  },
  {
   "cell_type": "code",
   "execution_count": 114,
   "id": "e9fb173a-4080-4834-b29e-f069f76dfc89",
   "metadata": {},
   "outputs": [],
   "source": [
    "df2 = pd.DataFrame(cutomer_order_num)\n",
    "df2[\"first_purchase\"] = df2.index.map(first_purchase)"
   ]
  },
  {
   "cell_type": "code",
   "execution_count": 115,
   "id": "4acdb074-0995-4f47-8816-7e0cd2cd5d11",
   "metadata": {},
   "outputs": [],
   "source": [
    "df2.loc[df2.order_item_id ==1, \"order_item_id\"] = 0"
   ]
  },
  {
   "cell_type": "code",
   "execution_count": 116,
   "id": "9b68a9e6-2995-4293-b767-2f45aebdee3a",
   "metadata": {},
   "outputs": [],
   "source": [
    "df2.loc[df2.order_item_id > 1, \"order_item_id\"] = 1"
   ]
  },
  {
   "cell_type": "code",
   "execution_count": 117,
   "id": "650c2853-5cec-4a2c-9127-f7e0d6a75030",
   "metadata": {},
   "outputs": [],
   "source": [
    "df2.columns = [\"is_returning_customer\", \"first_purchase\"]"
   ]
  },
  {
   "cell_type": "code",
   "execution_count": 118,
   "id": "47124967-1ed1-450b-bf2a-80a3f58d833d",
   "metadata": {},
   "outputs": [
    {
     "data": {
      "text/plain": [
       "<AxesSubplot:xlabel='is_returning_customer', ylabel='first_purchase'>"
      ]
     },
     "execution_count": 118,
     "metadata": {},
     "output_type": "execute_result"
    },
    {
     "data": {
      "image/png": "[encoded data removed]",
      "text/plain": [
       "<Figure size 432x288 with 1 Axes>"
      ]
     },
     "metadata": {
      "needs_background": "light"
     },
     "output_type": "display_data"
    }
   ],
   "source": [
    "sns.boxplot(x=\"is_returning_customer\", y=\"first_purchase\",data=df2)"
   ]
  },
  {
   "cell_type": "code",
   "execution_count": 153,
   "id": "c03dfc13-f722-4ce2-9fce-6d2ec6780dc7",
   "metadata": {},
   "outputs": [
    {
     "data": {
      "text/plain": [
       "Index(['00066ccbe787a588c52bd5ff404590e3', '000bf8121c3412d3057d32371c5d3395',\n",
       "       '001450ebb4a77efb3d68be5f7887cb1e', '002f90a6eb386bc43bc9ba200db31a89',\n",
       "       '0031abfb953b66e998f67b09e7b11375', '00331de1659c7f4fb660c8810e6de3f5',\n",
       "       '003a75d228dc67cb2918e40c2aacc4bf', '00426311a53f3c052943c88b692a3be2',\n",
       "       '004440537b68545ca3c341d7279bc4c0', '00474d2582fd72663036795b7ab8cfc1',\n",
       "       ...\n",
       "       'ffc436ef9df6ede268ee1548a0dfbbba', 'ffd094af4643c7ac712acd36a56feccc',\n",
       "       'ffd294eea523f67ee8c743d3a904ee20', 'ffdaaad4323306777060ca43b3f87e7f',\n",
       "       'ffde64401f7cb62d2e8696d9467c781d', 'ffe7ffb7c7ae0d42808f387578426b3b',\n",
       "       'ffed5d4f6245fe13cd57054621eec36a', 'fff168ca1f8a1d2e8e2108b231a68a8c',\n",
       "       'fff93c1da78dafaaa304ff032abc6205', 'ffffa3172527f765de70084a7e53aae8'],\n",
       "      dtype='object', name='customer_id', length=9803)"
      ]
     },
     "execution_count": 153,
     "metadata": {},
     "output_type": "execute_result"
    }
   ],
   "source": [
    "returning_customers = df2[df2[\"is_returning_customer\"]==1]\n",
    "returning_customers"
   ]
  },
  {
   "cell_type": "code",
   "execution_count": 159,
   "id": "80b57090-bb59-4c54-8e7b-36bcfb08f743",
   "metadata": {},
   "outputs": [],
   "source": [
    "df3 = pd.concat((returning_customers,df2[df2[\"is_returning_customer\"]==0].sample(len(returning_customers))))"
   ]
  },
  {
   "cell_type": "code",
   "execution_count": 184,
   "id": "7d59bb66-28ae-4ad2-af53-09b4f6174091",
   "metadata": {},
   "outputs": [
    {
     "data": {
      "text/html": [
       "<div>\n",
       "<style scoped>\n",
       "    .dataframe tbody tr th:only-of-type {\n",
       "        vertical-align: middle;\n",
       "    }\n",
       "\n",
       "    .dataframe tbody tr th {\n",
       "        vertical-align: top;\n",
       "    }\n",
       "\n",
       "    .dataframe thead th {\n",
       "        text-align: right;\n",
       "    }\n",
       "</style>\n",
       "<table border=\"1\" class=\"dataframe\">\n",
       "  <thead>\n",
       "    <tr style=\"text-align: right;\">\n",
       "      <th></th>\n",
       "      <th>is_returning_customer</th>\n",
       "      <th>first_purchase</th>\n",
       "    </tr>\n",
       "    <tr>\n",
       "      <th>customer_id</th>\n",
       "      <th></th>\n",
       "      <th></th>\n",
       "    </tr>\n",
       "  </thead>\n",
       "  <tbody>\n",
       "    <tr>\n",
       "      <th>00066ccbe787a588c52bd5ff404590e3</th>\n",
       "      <td>1</td>\n",
       "      <td>49.90</td>\n",
       "    </tr>\n",
       "    <tr>\n",
       "      <th>000bf8121c3412d3057d32371c5d3395</th>\n",
       "      <td>1</td>\n",
       "      <td>15.00</td>\n",
       "    </tr>\n",
       "    <tr>\n",
       "      <th>001450ebb4a77efb3d68be5f7887cb1e</th>\n",
       "      <td>1</td>\n",
       "      <td>19.57</td>\n",
       "    </tr>\n",
       "  </tbody>\n",
       "</table>\n",
       "</div>"
      ],
      "text/plain": [
       "                                  is_returning_customer  first_purchase\n",
       "customer_id                                                            \n",
       "00066ccbe787a588c52bd5ff404590e3                      1           49.90\n",
       "000bf8121c3412d3057d32371c5d3395                      1           15.00\n",
       "001450ebb4a77efb3d68be5f7887cb1e                      1           19.57"
      ]
     },
     "execution_count": 184,
     "metadata": {},
     "output_type": "execute_result"
    }
   ],
   "source": [
    "df3.head(3)"
   ]
  },
  {
   "cell_type": "code",
   "execution_count": 195,
   "id": "be897365-2fa5-4272-8ebb-3a6e8d996cbc",
   "metadata": {},
   "outputs": [],
   "source": [
    "X = df3[\"first_purchase\"].values.reshape(-1, 1)\n",
    "y = df3[\"is_returning_customer\"]"
   ]
  },
  {
   "cell_type": "code",
   "execution_count": 226,
   "id": "49fa7698-4704-4798-ad33-0b2def90937a",
   "metadata": {},
   "outputs": [],
   "source": [
    "from sklearn.model_selection import cross_val_score\n",
    "from sklearn.tree import DecisionTreeClassifier\n",
    "clf = DecisionTreeClassifier(random_state=0, max_depth=1, min_samples_leaf=4)"
   ]
  },
  {
   "cell_type": "code",
   "execution_count": 227,
   "id": "f5984d47-c6c3-4c76-9c62-d80fbf7a097e",
   "metadata": {},
   "outputs": [
    {
     "data": {
      "text/plain": [
       "(19606, 1)"
      ]
     },
     "execution_count": 227,
     "metadata": {},
     "output_type": "execute_result"
    }
   ],
   "source": [
    "X.shape"
   ]
  },
  {
   "cell_type": "code",
   "execution_count": 228,
   "id": "70de59f3-6255-40e2-84a8-476ead8f6bd0",
   "metadata": {},
   "outputs": [
    {
     "data": {
      "text/plain": [
       "1    9803\n",
       "0    9803\n",
       "Name: is_returning_customer, dtype: int64"
      ]
     },
     "execution_count": 228,
     "metadata": {},
     "output_type": "execute_result"
    }
   ],
   "source": [
    "y.value_counts()"
   ]
  },
  {
   "cell_type": "code",
   "execution_count": 229,
   "id": "98dcffa4-855e-4ce1-90a7-4de3fa2f91d9",
   "metadata": {},
   "outputs": [
    {
     "data": {
      "text/plain": [
       "array([0.55991841, 0.58286588, 0.56654768, 0.57521673, 0.57827639,\n",
       "       0.56501785, 0.56071429, 0.57755102, 0.55765306, 0.57653061])"
      ]
     },
     "execution_count": 229,
     "metadata": {},
     "output_type": "execute_result"
    }
   ],
   "source": [
    "cross_val_score(clf, X, y, cv=10)"
   ]
  },
  {
   "cell_type": "code",
   "execution_count": 230,
   "id": "7a46774a-9326-4f30-a55a-a4390d33709f",
   "metadata": {},
   "outputs": [],
   "source": [
    "clf.fit(X, y)\n",
    "y_pred = clf.predict(X)"
   ]
  },
  {
   "cell_type": "code",
   "execution_count": 245,
   "id": "35cd367d-2b71-43a9-aa0f-1d3fdb523ed6",
   "metadata": {},
   "outputs": [
    {
     "name": "stdout",
     "output_type": "stream",
     "text": [
      "              precision    recall  f1-score   support\n",
      "\n",
      "    one-time       0.64      0.33      0.44      9803\n",
      "   returning       0.55      0.81      0.65      9803\n",
      "\n",
      "    accuracy                           0.57     19606\n",
      "   macro avg       0.59      0.57      0.54     19606\n",
      "weighted avg       0.59      0.57      0.54     19606\n",
      "\n"
     ]
    }
   ],
   "source": [
    "from sklearn.metrics import classification_report, confusion_matrix\n",
    "print(classification_report(y, y_pred, target_names=[\"one-time\", \"returning\"]))"
   ]
  },
  {
   "cell_type": "code",
   "execution_count": 246,
   "id": "68036180-3563-40c6-8f54-3e4573485095",
   "metadata": {},
   "outputs": [
    {
     "data": {
      "text/plain": [
       "array([[3250, 6553],\n",
       "       [1860, 7943]])"
      ]
     },
     "execution_count": 246,
     "metadata": {},
     "output_type": "execute_result"
    }
   ],
   "source": [
    "confusion_matrix(y, y_pred)"
   ]
  },
  {
   "cell_type": "code",
   "execution_count": 233,
   "id": "ea75734a-c52a-4f69-95ad-7b79f71d3f47",
   "metadata": {},
   "outputs": [
    {
     "data": {
      "image/png": "[encoded data removed]",
      "text/plain": [
       "<Figure size 1440x720 with 1 Axes>"
      ]
     },
     "metadata": {
      "needs_background": "light"
     },
     "output_type": "display_data"
    }
   ],
   "source": [
    "from sklearn.tree import plot_tree\n",
    "plt.figure(figsize=(20, 10))\n",
    "plot_tree(clf, max_depth=3)\n",
    "plt.show()"
   ]
  },
  {
   "cell_type": "code",
   "execution_count": 250,
   "id": "001e77d7-8149-4355-a14b-1a416bd6528e",
   "metadata": {},
   "outputs": [
    {
     "name": "stdout",
     "output_type": "stream",
     "text": [
      "[[29409 59454]\n",
      " [ 1860  7943]]\n"
     ]
    }
   ],
   "source": [
    "print(confusion_matrix(df2.is_returning_customer.values, clf.predict(df2.first_purchase.values.reshape(-1, 1))))"
   ]
  },
  {
   "cell_type": "code",
   "execution_count": null,
   "id": "ccaf9023-1caf-464b-bfe1-eac20eb7fd94",
   "metadata": {},
   "outputs": [],
   "source": []
  }
 ],
 "metadata": {
  "kernelspec": {
   "display_name": "Python 3 (ipykernel)",
   "language": "python",
   "name": "python3"
  },
  "language_info": {
   "codemirror_mode": {
    "name": "ipython",
    "version": 3
   },
   "file_extension": ".py",
   "mimetype": "text/x-python",
   "name": "python",
   "nbconvert_exporter": "python",
   "pygments_lexer": "ipython3",
   "version": "3.8.12"
  }
 },
 "nbformat": 4,
 "nbformat_minor": 5
}
