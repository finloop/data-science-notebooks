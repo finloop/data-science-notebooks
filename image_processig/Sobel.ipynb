{
 "cells": [
  {
   "cell_type": "code",
   "execution_count": 53,
   "id": "1e6c5f80-af3d-49a6-b4ff-c862d1dec98e",
   "metadata": {},
   "outputs": [],
   "source": [
    "import numpy as np\n",
    "import matplotlib.pylab as plt"
   ]
  },
  {
   "cell_type": "code",
   "execution_count": 2,
   "id": "b704f3d2-0402-4ef4-bb85-f896cc0439e1",
   "metadata": {},
   "outputs": [],
   "source": [
    "x = np.array([\n",
    "[-1,-2,-1],\n",
    "[0,  0, 0],\n",
    "[1,  2, 1]\n",
    "])"
   ]
  },
  {
   "cell_type": "code",
   "execution_count": 6,
   "id": "bd6da7eb-b70f-4bb7-8568-374a1a3b0d35",
   "metadata": {},
   "outputs": [],
   "source": [
    "y = x.T"
   ]
  },
  {
   "cell_type": "code",
   "execution_count": 39,
   "id": "93085a4f-3d6f-4c6d-b38a-427110485b0e",
   "metadata": {},
   "outputs": [],
   "source": [
    "image = np.array([\n",
    "[0,0,0,0,1,1,1,1],\n",
    "[0,0,0,0,1,1,1,1],\n",
    "[1,1,1,1,1,1,1,1],\n",
    "[0,0,0,0,1,1,1,1],\n",
    "[0,0,0,0,1,1,1,1],\n",
    "])"
   ]
  },
  {
   "cell_type": "code",
   "execution_count": 51,
   "id": "330431f4-92c4-4ff9-8d78-83e9b7f8f3af",
   "metadata": {},
   "outputs": [],
   "source": [
    "Gx = np.zeros((image.shape[0], image.shape[1]))\n",
    "Gy = np.zeros((image.shape[0], image.shape[1]))\n",
    "G = np.zeros((image.shape[0], image.shape[1]))\n",
    "\n",
    "\n",
    "for i in range(1, image.shape[0]-1):\n",
    "    for j in range(1, image.shape[1]-1):\n",
    "        Gx[i, j] = np.sum(np.multiply(image[i-1:i+2,j-1:j+2], x))\n",
    "        Gy[i, j] = np.sum(np.multiply(image[i-1:i+2,j-1:j+2], y))\n",
    "        \n",
    "        # Total gradient\n",
    "        G[i, j] = np.sqrt(Gx[i, j]**2 + Gy[i, j]**2)"
   ]
  },
  {
   "cell_type": "code",
   "execution_count": 52,
   "id": "bc638b88-f47a-4769-8af5-78a67b8f8ed9",
   "metadata": {},
   "outputs": [
    {
     "data": {
      "text/plain": [
       "array([[0., 0., 0., 0., 0., 0., 0., 0.],\n",
       "       [0., 4., 4., 4., 3., 0., 0., 0.],\n",
       "       [0., 0., 0., 2., 2., 0., 0., 0.],\n",
       "       [0., 4., 4., 4., 3., 0., 0., 0.],\n",
       "       [0., 0., 0., 0., 0., 0., 0., 0.]])"
      ]
     },
     "execution_count": 52,
     "metadata": {},
     "output_type": "execute_result"
    }
   ],
   "source": [
    "np.round(G)"
   ]
  },
  {
   "cell_type": "code",
   "execution_count": 54,
   "id": "7767d479-a4a8-40bb-91fd-9eb9782c9908",
   "metadata": {},
   "outputs": [
    {
     "data": {
      "text/plain": [
       "<matplotlib.image.AxesImage at 0x7f2979a5d310>"
      ]
     },
     "execution_count": 54,
     "metadata": {},
     "output_type": "execute_result"
    },
    {
     "data": {
      "image/png": "[encoded data removed]",
      "text/plain": [
       "<Figure size 432x288 with 1 Axes>"
      ]
     },
     "metadata": {
      "needs_background": "light"
     },
     "output_type": "display_data"
    }
   ],
   "source": [
    "plt.imshow(G)"
   ]
  },
  {
   "cell_type": "code",
   "execution_count": 55,
   "id": "87a1ef8a-22c6-4ed1-a027-336b978e602f",
   "metadata": {},
   "outputs": [
    {
     "data": {
      "text/plain": [
       "<matplotlib.image.AxesImage at 0x7f29799cfaf0>"
      ]
     },
     "execution_count": 55,
     "metadata": {},
     "output_type": "execute_result"
    },
    {
     "data": {
      "image/png": "[encoded data removed]",
      "text/plain": [
       "<Figure size 432x288 with 1 Axes>"
      ]
     },
     "metadata": {
      "needs_background": "light"
     },
     "output_type": "display_data"
    }
   ],
   "source": [
    "plt.imshow(image)"
   ]
  },
  {
   "cell_type": "code",
   "execution_count": null,
   "id": "193eb934-5375-40a7-a51c-67295643786f",
   "metadata": {},
   "outputs": [],
   "source": []
  }
 ],
 "metadata": {
  "kernelspec": {
   "display_name": "Python 3 (ipykernel)",
   "language": "python",
   "name": "python3"
  },
  "language_info": {
   "codemirror_mode": {
    "name": "ipython",
    "version": 3
   },
   "file_extension": ".py",
   "mimetype": "text/x-python",
   "name": "python",
   "nbconvert_exporter": "python",
   "pygments_lexer": "ipython3",
   "version": "3.8.10"
  }
 },
 "nbformat": 4,
 "nbformat_minor": 5
}
